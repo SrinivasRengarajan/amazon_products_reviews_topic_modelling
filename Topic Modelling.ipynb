{
 "cells": [
  {
   "cell_type": "code",
   "execution_count": 20,
   "metadata": {},
   "outputs": [
    {
     "name": "stdout",
     "output_type": "stream",
     "text": [
      "[nltk_data] Downloading package wordnet to C:\\Users\\SrinivasRengarajan\n",
      "[nltk_data]     .DESKTOP-C5Q3RJS\\AppData\\Roaming\\nltk_data...\n",
      "[nltk_data]   Package wordnet is already up-to-date!\n"
     ]
    }
   ],
   "source": [
    "import pandas as pd\n",
    "import numpy as np\n",
    "\n",
    "'''\n",
    "Loading Gensim and nltk libraries\n",
    "'''\n",
    "# pip install gensim\n",
    "import gensim\n",
    "from gensim.utils import simple_preprocess\n",
    "from gensim.parsing.preprocessing import STOPWORDS\n",
    "from nltk.stem import WordNetLemmatizer, SnowballStemmer\n",
    "from nltk.stem.porter import *\n",
    "import numpy as np\n",
    "np.random.seed(400)\n",
    "\n",
    "import nltk\n",
    "nltk.download('wordnet')\n",
    "\n",
    "#For printing the values without calling print() function everytime\n",
    "from IPython.core.interactiveshell import InteractiveShell\n",
    "InteractiveShell.ast_node_interactivity = \"all\""
   ]
  },
  {
   "cell_type": "code",
   "execution_count": 44,
   "metadata": {},
   "outputs": [],
   "source": [
    "# !pip install pyLDAvis"
   ]
  },
  {
   "cell_type": "code",
   "execution_count": 45,
   "metadata": {},
   "outputs": [],
   "source": [
    "# libraries for visualization\n",
    "import pyLDAvis\n",
    "import pyLDAvis.gensim\n",
    "import matplotlib.pyplot as plt\n",
    "import seaborn as sns\n",
    "%matplotlib inline"
   ]
  },
  {
   "cell_type": "code",
   "execution_count": 3,
   "metadata": {},
   "outputs": [],
   "source": [
    "reviews_df=pd.read_csv(\"Reviews_of_Amazon_Products.csv\")"
   ]
  },
  {
   "cell_type": "code",
   "execution_count": 4,
   "metadata": {},
   "outputs": [
    {
     "data": {
      "text/html": [
       "<div>\n",
       "<style scoped>\n",
       "    .dataframe tbody tr th:only-of-type {\n",
       "        vertical-align: middle;\n",
       "    }\n",
       "\n",
       "    .dataframe tbody tr th {\n",
       "        vertical-align: top;\n",
       "    }\n",
       "\n",
       "    .dataframe thead th {\n",
       "        text-align: right;\n",
       "    }\n",
       "</style>\n",
       "<table border=\"1\" class=\"dataframe\">\n",
       "  <thead>\n",
       "    <tr style=\"text-align: right;\">\n",
       "      <th></th>\n",
       "      <th>id</th>\n",
       "      <th>dateAdded</th>\n",
       "      <th>dateUpdated</th>\n",
       "      <th>name</th>\n",
       "      <th>asins</th>\n",
       "      <th>brand</th>\n",
       "      <th>categories</th>\n",
       "      <th>primaryCategories</th>\n",
       "      <th>imageURLs</th>\n",
       "      <th>keys</th>\n",
       "      <th>...</th>\n",
       "      <th>reviews.dateSeen</th>\n",
       "      <th>reviews.doRecommend</th>\n",
       "      <th>reviews.id</th>\n",
       "      <th>reviews.numHelpful</th>\n",
       "      <th>reviews.rating</th>\n",
       "      <th>reviews.sourceURLs</th>\n",
       "      <th>reviews.text</th>\n",
       "      <th>reviews.title</th>\n",
       "      <th>reviews.username</th>\n",
       "      <th>sourceURLs</th>\n",
       "    </tr>\n",
       "  </thead>\n",
       "  <tbody>\n",
       "    <tr>\n",
       "      <th>0</th>\n",
       "      <td>AVqVGZNvQMlgsOJE6eUY</td>\n",
       "      <td>2017-03-03T16:56:05Z</td>\n",
       "      <td>2018-10-25T16:36:31Z</td>\n",
       "      <td>Amazon Kindle E-Reader 6\" Wifi (8th Generation...</td>\n",
       "      <td>B00ZV9PXP2</td>\n",
       "      <td>Amazon</td>\n",
       "      <td>Computers,Electronics Features,Tablets,Electro...</td>\n",
       "      <td>Electronics</td>\n",
       "      <td>https://pisces.bbystatic.com/image2/BestBuy_US...</td>\n",
       "      <td>allnewkindleereaderblack6glarefreetouchscreend...</td>\n",
       "      <td>...</td>\n",
       "      <td>2018-05-27T00:00:00Z,2017-09-18T00:00:00Z,2017...</td>\n",
       "      <td>False</td>\n",
       "      <td>NaN</td>\n",
       "      <td>0</td>\n",
       "      <td>3</td>\n",
       "      <td>http://reviews.bestbuy.com/3545/5442403/review...</td>\n",
       "      <td>I thought it would be as big as small paper bu...</td>\n",
       "      <td>Too small</td>\n",
       "      <td>llyyue</td>\n",
       "      <td>https://www.newegg.com/Product/Product.aspx%25...</td>\n",
       "    </tr>\n",
       "    <tr>\n",
       "      <th>1</th>\n",
       "      <td>AVqVGZNvQMlgsOJE6eUY</td>\n",
       "      <td>2017-03-03T16:56:05Z</td>\n",
       "      <td>2018-10-25T16:36:31Z</td>\n",
       "      <td>Amazon Kindle E-Reader 6\" Wifi (8th Generation...</td>\n",
       "      <td>B00ZV9PXP2</td>\n",
       "      <td>Amazon</td>\n",
       "      <td>Computers,Electronics Features,Tablets,Electro...</td>\n",
       "      <td>Electronics</td>\n",
       "      <td>https://pisces.bbystatic.com/image2/BestBuy_US...</td>\n",
       "      <td>allnewkindleereaderblack6glarefreetouchscreend...</td>\n",
       "      <td>...</td>\n",
       "      <td>2018-05-27T00:00:00Z,2017-07-07T00:00:00Z,2017...</td>\n",
       "      <td>True</td>\n",
       "      <td>NaN</td>\n",
       "      <td>0</td>\n",
       "      <td>5</td>\n",
       "      <td>http://reviews.bestbuy.com/3545/5442403/review...</td>\n",
       "      <td>This kindle is light and easy to use especiall...</td>\n",
       "      <td>Great light reader. Easy to use at the beach</td>\n",
       "      <td>Charmi</td>\n",
       "      <td>https://www.newegg.com/Product/Product.aspx%25...</td>\n",
       "    </tr>\n",
       "    <tr>\n",
       "      <th>2</th>\n",
       "      <td>AVqVGZNvQMlgsOJE6eUY</td>\n",
       "      <td>2017-03-03T16:56:05Z</td>\n",
       "      <td>2018-10-25T16:36:31Z</td>\n",
       "      <td>Amazon Kindle E-Reader 6\" Wifi (8th Generation...</td>\n",
       "      <td>B00ZV9PXP2</td>\n",
       "      <td>Amazon</td>\n",
       "      <td>Computers,Electronics Features,Tablets,Electro...</td>\n",
       "      <td>Electronics</td>\n",
       "      <td>https://pisces.bbystatic.com/image2/BestBuy_US...</td>\n",
       "      <td>allnewkindleereaderblack6glarefreetouchscreend...</td>\n",
       "      <td>...</td>\n",
       "      <td>2018-05-27T00:00:00Z</td>\n",
       "      <td>True</td>\n",
       "      <td>NaN</td>\n",
       "      <td>0</td>\n",
       "      <td>4</td>\n",
       "      <td>https://reviews.bestbuy.com/3545/5442403/revie...</td>\n",
       "      <td>Didnt know how much i'd use a kindle so went f...</td>\n",
       "      <td>Great for the price</td>\n",
       "      <td>johnnyjojojo</td>\n",
       "      <td>https://www.newegg.com/Product/Product.aspx%25...</td>\n",
       "    </tr>\n",
       "    <tr>\n",
       "      <th>3</th>\n",
       "      <td>AVqVGZNvQMlgsOJE6eUY</td>\n",
       "      <td>2017-03-03T16:56:05Z</td>\n",
       "      <td>2018-10-25T16:36:31Z</td>\n",
       "      <td>Amazon Kindle E-Reader 6\" Wifi (8th Generation...</td>\n",
       "      <td>B00ZV9PXP2</td>\n",
       "      <td>Amazon</td>\n",
       "      <td>Computers,Electronics Features,Tablets,Electro...</td>\n",
       "      <td>Electronics</td>\n",
       "      <td>https://pisces.bbystatic.com/image2/BestBuy_US...</td>\n",
       "      <td>allnewkindleereaderblack6glarefreetouchscreend...</td>\n",
       "      <td>...</td>\n",
       "      <td>2018-10-09T00:00:00Z</td>\n",
       "      <td>True</td>\n",
       "      <td>177283626.0</td>\n",
       "      <td>3</td>\n",
       "      <td>5</td>\n",
       "      <td>https://redsky.target.com/groot-domain-api/v1/...</td>\n",
       "      <td>I am 100 happy with my purchase. I caught it o...</td>\n",
       "      <td>A Great Buy</td>\n",
       "      <td>Kdperry</td>\n",
       "      <td>https://www.newegg.com/Product/Product.aspx%25...</td>\n",
       "    </tr>\n",
       "    <tr>\n",
       "      <th>4</th>\n",
       "      <td>AVqVGZNvQMlgsOJE6eUY</td>\n",
       "      <td>2017-03-03T16:56:05Z</td>\n",
       "      <td>2018-10-25T16:36:31Z</td>\n",
       "      <td>Amazon Kindle E-Reader 6\" Wifi (8th Generation...</td>\n",
       "      <td>B00ZV9PXP2</td>\n",
       "      <td>Amazon</td>\n",
       "      <td>Computers,Electronics Features,Tablets,Electro...</td>\n",
       "      <td>Electronics</td>\n",
       "      <td>https://pisces.bbystatic.com/image2/BestBuy_US...</td>\n",
       "      <td>allnewkindleereaderblack6glarefreetouchscreend...</td>\n",
       "      <td>...</td>\n",
       "      <td>2018-05-27T00:00:00Z</td>\n",
       "      <td>True</td>\n",
       "      <td>NaN</td>\n",
       "      <td>0</td>\n",
       "      <td>5</td>\n",
       "      <td>https://reviews.bestbuy.com/3545/5442403/revie...</td>\n",
       "      <td>Solid entry level Kindle. Great for kids. Gift...</td>\n",
       "      <td>Solid entry-level Kindle. Great for kids</td>\n",
       "      <td>Johnnyblack</td>\n",
       "      <td>https://www.newegg.com/Product/Product.aspx%25...</td>\n",
       "    </tr>\n",
       "  </tbody>\n",
       "</table>\n",
       "<p>5 rows × 24 columns</p>\n",
       "</div>"
      ],
      "text/plain": [
       "                     id             dateAdded           dateUpdated  \\\n",
       "0  AVqVGZNvQMlgsOJE6eUY  2017-03-03T16:56:05Z  2018-10-25T16:36:31Z   \n",
       "1  AVqVGZNvQMlgsOJE6eUY  2017-03-03T16:56:05Z  2018-10-25T16:36:31Z   \n",
       "2  AVqVGZNvQMlgsOJE6eUY  2017-03-03T16:56:05Z  2018-10-25T16:36:31Z   \n",
       "3  AVqVGZNvQMlgsOJE6eUY  2017-03-03T16:56:05Z  2018-10-25T16:36:31Z   \n",
       "4  AVqVGZNvQMlgsOJE6eUY  2017-03-03T16:56:05Z  2018-10-25T16:36:31Z   \n",
       "\n",
       "                                                name       asins   brand  \\\n",
       "0  Amazon Kindle E-Reader 6\" Wifi (8th Generation...  B00ZV9PXP2  Amazon   \n",
       "1  Amazon Kindle E-Reader 6\" Wifi (8th Generation...  B00ZV9PXP2  Amazon   \n",
       "2  Amazon Kindle E-Reader 6\" Wifi (8th Generation...  B00ZV9PXP2  Amazon   \n",
       "3  Amazon Kindle E-Reader 6\" Wifi (8th Generation...  B00ZV9PXP2  Amazon   \n",
       "4  Amazon Kindle E-Reader 6\" Wifi (8th Generation...  B00ZV9PXP2  Amazon   \n",
       "\n",
       "                                          categories primaryCategories  \\\n",
       "0  Computers,Electronics Features,Tablets,Electro...       Electronics   \n",
       "1  Computers,Electronics Features,Tablets,Electro...       Electronics   \n",
       "2  Computers,Electronics Features,Tablets,Electro...       Electronics   \n",
       "3  Computers,Electronics Features,Tablets,Electro...       Electronics   \n",
       "4  Computers,Electronics Features,Tablets,Electro...       Electronics   \n",
       "\n",
       "                                           imageURLs  \\\n",
       "0  https://pisces.bbystatic.com/image2/BestBuy_US...   \n",
       "1  https://pisces.bbystatic.com/image2/BestBuy_US...   \n",
       "2  https://pisces.bbystatic.com/image2/BestBuy_US...   \n",
       "3  https://pisces.bbystatic.com/image2/BestBuy_US...   \n",
       "4  https://pisces.bbystatic.com/image2/BestBuy_US...   \n",
       "\n",
       "                                                keys  ...  \\\n",
       "0  allnewkindleereaderblack6glarefreetouchscreend...  ...   \n",
       "1  allnewkindleereaderblack6glarefreetouchscreend...  ...   \n",
       "2  allnewkindleereaderblack6glarefreetouchscreend...  ...   \n",
       "3  allnewkindleereaderblack6glarefreetouchscreend...  ...   \n",
       "4  allnewkindleereaderblack6glarefreetouchscreend...  ...   \n",
       "\n",
       "                                    reviews.dateSeen reviews.doRecommend  \\\n",
       "0  2018-05-27T00:00:00Z,2017-09-18T00:00:00Z,2017...               False   \n",
       "1  2018-05-27T00:00:00Z,2017-07-07T00:00:00Z,2017...                True   \n",
       "2                               2018-05-27T00:00:00Z                True   \n",
       "3                               2018-10-09T00:00:00Z                True   \n",
       "4                               2018-05-27T00:00:00Z                True   \n",
       "\n",
       "    reviews.id reviews.numHelpful reviews.rating  \\\n",
       "0          NaN                  0              3   \n",
       "1          NaN                  0              5   \n",
       "2          NaN                  0              4   \n",
       "3  177283626.0                  3              5   \n",
       "4          NaN                  0              5   \n",
       "\n",
       "                                  reviews.sourceURLs  \\\n",
       "0  http://reviews.bestbuy.com/3545/5442403/review...   \n",
       "1  http://reviews.bestbuy.com/3545/5442403/review...   \n",
       "2  https://reviews.bestbuy.com/3545/5442403/revie...   \n",
       "3  https://redsky.target.com/groot-domain-api/v1/...   \n",
       "4  https://reviews.bestbuy.com/3545/5442403/revie...   \n",
       "\n",
       "                                        reviews.text  \\\n",
       "0  I thought it would be as big as small paper bu...   \n",
       "1  This kindle is light and easy to use especiall...   \n",
       "2  Didnt know how much i'd use a kindle so went f...   \n",
       "3  I am 100 happy with my purchase. I caught it o...   \n",
       "4  Solid entry level Kindle. Great for kids. Gift...   \n",
       "\n",
       "                                  reviews.title  reviews.username  \\\n",
       "0                                     Too small            llyyue   \n",
       "1  Great light reader. Easy to use at the beach            Charmi   \n",
       "2                           Great for the price      johnnyjojojo   \n",
       "3                                   A Great Buy           Kdperry   \n",
       "4      Solid entry-level Kindle. Great for kids       Johnnyblack   \n",
       "\n",
       "                                          sourceURLs  \n",
       "0  https://www.newegg.com/Product/Product.aspx%25...  \n",
       "1  https://www.newegg.com/Product/Product.aspx%25...  \n",
       "2  https://www.newegg.com/Product/Product.aspx%25...  \n",
       "3  https://www.newegg.com/Product/Product.aspx%25...  \n",
       "4  https://www.newegg.com/Product/Product.aspx%25...  \n",
       "\n",
       "[5 rows x 24 columns]"
      ]
     },
     "execution_count": 4,
     "metadata": {},
     "output_type": "execute_result"
    }
   ],
   "source": [
    "reviews_df.head()"
   ]
  },
  {
   "cell_type": "code",
   "execution_count": 18,
   "metadata": {},
   "outputs": [],
   "source": [
    "#Splitting the data into training and testing in 80/20 proportions\n",
    "reviews_train_df=reviews_df.sample(frac=0.8,random_state=599) #random state is used for setting the seed value for reproducibility\n",
    "reviews_test_df=reviews_df.drop(reviews_train_df.index)\n",
    "\n",
    "#Resetting the index for clear understanding\n",
    "reviews_train_df=reviews_train_df.reset_index(drop=True)\n",
    "reviews_test_df=reviews_test_df.reset_index(drop=True)"
   ]
  },
  {
   "cell_type": "code",
   "execution_count": 21,
   "metadata": {},
   "outputs": [
    {
     "data": {
      "text/plain": [
       "4000"
      ]
     },
     "execution_count": 21,
     "metadata": {},
     "output_type": "execute_result"
    },
    {
     "data": {
      "text/plain": [
       "1000"
      ]
     },
     "execution_count": 21,
     "metadata": {},
     "output_type": "execute_result"
    }
   ],
   "source": [
    "len(reviews_train_df)\n",
    "len(reviews_test_df)"
   ]
  },
  {
   "cell_type": "code",
   "execution_count": 5,
   "metadata": {},
   "outputs": [],
   "source": [
    "'''\n",
    "A function to perform the pre processing steps on the entire dataset\n",
    "'''\n",
    "def lemmatize_stemming(text):\n",
    "    return stemmer.stem(WordNetLemmatizer().lemmatize(text, pos='v'))\n",
    "\n",
    "# Tokenize and lemmatize\n",
    "def preprocess(text):\n",
    "    result=[]\n",
    "    for token in gensim.utils.simple_preprocess(text) :\n",
    "        if token not in gensim.parsing.preprocessing.STOPWORDS and len(token) > 3:\n",
    "            result.append(lemmatize_stemming(token))\n",
    "            \n",
    "    return result"
   ]
  },
  {
   "cell_type": "code",
   "execution_count": 22,
   "metadata": {},
   "outputs": [],
   "source": [
    "stemmer = SnowballStemmer(\"english\")\n",
    "\n",
    "processed_docs = []\n",
    "\n",
    "for doc in reviews_train_df['reviews.text']:\n",
    "    processed_docs.append(preprocess(doc))"
   ]
  },
  {
   "cell_type": "code",
   "execution_count": 23,
   "metadata": {},
   "outputs": [
    {
     "name": "stdout",
     "output_type": "stream",
     "text": [
      "['daughter', 'love', 'tablet', 'bigger', 'screen', 'featur', 'enjoy', 'kindl', 'price', 'right', 'easi', 'abl', 'app', 'transfer', 'tablet', 'time', 'great', 'invest']\n"
     ]
    }
   ],
   "source": [
    "print(processed_docs[5])"
   ]
  },
  {
   "cell_type": "code",
   "execution_count": 24,
   "metadata": {},
   "outputs": [
    {
     "data": {
      "text/plain": [
       "\"\\nCreating a dictionary from 'processed_docs' containing the number of times a word appears \\nin the training set using gensim.corpora.Dictionary and calling it as 'dictionary'\\n\""
      ]
     },
     "execution_count": 24,
     "metadata": {},
     "output_type": "execute_result"
    }
   ],
   "source": [
    "'''\n",
    "Creating a dictionary from 'processed_docs' containing the number of times a word appears \n",
    "in the training set using gensim.corpora.Dictionary and calling it as 'dictionary'\n",
    "'''\n",
    "dictionary = gensim.corpora.Dictionary(processed_docs)"
   ]
  },
  {
   "cell_type": "code",
   "execution_count": 25,
   "metadata": {},
   "outputs": [
    {
     "data": {
      "text/plain": [
       "'\\nChecking the dictionary created\\n'"
      ]
     },
     "execution_count": 25,
     "metadata": {},
     "output_type": "execute_result"
    },
    {
     "name": "stdout",
     "output_type": "stream",
     "text": [
      "0 age\n",
      "1 connect\n",
      "2 improv\n",
      "3 ipad\n",
      "4 larger\n",
      "5 notic\n",
      "6 prefer\n",
      "7 replac\n",
      "8 screen\n",
      "9 wifi\n",
      "10 beginn\n"
     ]
    }
   ],
   "source": [
    "'''\n",
    "Checking the dictionary created\n",
    "'''\n",
    "count = 0\n",
    "for k, v in dictionary.iteritems():\n",
    "    print(k, v)\n",
    "    count += 1\n",
    "    if count > 10:\n",
    "        break"
   ]
  },
  {
   "cell_type": "code",
   "execution_count": 26,
   "metadata": {},
   "outputs": [
    {
     "data": {
      "text/plain": [
       "'\\nThis is an OPTIONAL STEP\\nRemoving very rare and very common words:\\n\\n- words appearing less than 15 times\\n- words appearing in more than 10% of all documents\\n'"
      ]
     },
     "execution_count": 26,
     "metadata": {},
     "output_type": "execute_result"
    }
   ],
   "source": [
    "'''\n",
    "This is an OPTIONAL STEP\n",
    "Removing very rare and very common words:\n",
    "\n",
    "- words appearing less than 15 times\n",
    "- words appearing in more than 10% of all documents\n",
    "'''\n",
    "dictionary.filter_extremes(no_below=15, no_above=0.1, keep_n= 100000)"
   ]
  },
  {
   "cell_type": "code",
   "execution_count": 27,
   "metadata": {},
   "outputs": [
    {
     "data": {
      "text/plain": [
       "\"\\nCreate the Bag-of-words model for each document i.e for each document we create a dictionary reporting how many\\nwords and how many times those words appear. Save this to 'bow_corpus'\\n\""
      ]
     },
     "execution_count": 27,
     "metadata": {},
     "output_type": "execute_result"
    }
   ],
   "source": [
    "'''\n",
    "Create the Bag-of-words model for each document i.e for each document we create a dictionary reporting how many\n",
    "words and how many times those words appear. Save this to 'bow_corpus'\n",
    "'''\n",
    "bow_corpus = [dictionary.doc2bow(doc) for doc in processed_docs]"
   ]
  },
  {
   "cell_type": "code",
   "execution_count": 28,
   "metadata": {},
   "outputs": [
    {
     "data": {
      "text/plain": [
       "'\\nPreviewing BOW for our sample preprocessed document\\n'"
      ]
     },
     "execution_count": 28,
     "metadata": {},
     "output_type": "execute_result"
    },
    {
     "name": "stdout",
     "output_type": "stream",
     "text": [
      "Word 42 (\"enjoy\") appears 1 time.\n",
      "Word 58 (\"light\") appears 1 time.\n",
      "Word 130 (\"case\") appears 1 time.\n",
      "Word 131 (\"choos\") appears 1 time.\n",
      "Word 132 (\"christma\") appears 1 time.\n",
      "Word 133 (\"level\") appears 1 time.\n",
      "Word 134 (\"lock\") appears 1 time.\n",
      "Word 135 (\"parent\") appears 1 time.\n",
      "Word 136 (\"timer\") appears 1 time.\n",
      "Word 137 (\"year\") appears 2 time.\n"
     ]
    }
   ],
   "source": [
    "'''\n",
    "Previewing BOW for our sample preprocessed document\n",
    "'''\n",
    "document_num = 20\n",
    "bow_doc_x = bow_corpus[document_num]\n",
    "\n",
    "for i in range(len(bow_doc_x)):\n",
    "    print(\"Word {} (\\\"{}\\\") appears {} time.\".format(bow_doc_x[i][0], \n",
    "                                                     dictionary[bow_doc_x[i][0]], \n",
    "                                                     bow_doc_x[i][1]))"
   ]
  },
  {
   "cell_type": "code",
   "execution_count": 29,
   "metadata": {},
   "outputs": [
    {
     "data": {
      "text/plain": [
       "'\\nTraining our LDA model using gensim.models.LdaMulticore\\n'"
      ]
     },
     "execution_count": 29,
     "metadata": {},
     "output_type": "execute_result"
    }
   ],
   "source": [
    "'''\n",
    "Training our LDA model using gensim.models.LdaMulticore\n",
    "'''\n",
    "# TODO\n",
    "lda_model =  gensim.models.LdaMulticore(bow_corpus, \n",
    "                                   num_topics = 7, \n",
    "                                   id2word = dictionary,                                    \n",
    "                                   passes = 10,\n",
    "                                   workers = 2, random_state=599)"
   ]
  },
  {
   "cell_type": "code",
   "execution_count": 30,
   "metadata": {},
   "outputs": [
    {
     "data": {
      "text/plain": [
       "'\\nFor each topic, we will explore the words occuring in that topic and its relative weight\\n'"
      ]
     },
     "execution_count": 30,
     "metadata": {},
     "output_type": "execute_result"
    },
    {
     "name": "stdout",
     "output_type": "stream",
     "text": [
      "Topic: 0 \n",
      "Words: 0.040*\"sound\" + 0.032*\"time\" + 0.030*\"watch\" + 0.029*\"video\" + 0.025*\"qualiti\" + 0.022*\"plus\" + 0.022*\"speaker\" + 0.021*\"learn\" + 0.017*\"thing\" + 0.017*\"better\"\n",
      "\n",
      "\n",
      "Topic: 1 \n",
      "Words: 0.073*\"kid\" + 0.055*\"price\" + 0.022*\"game\" + 0.021*\"control\" + 0.020*\"awesom\" + 0.019*\"happi\" + 0.018*\"parent\" + 0.016*\"play\" + 0.015*\"movi\" + 0.014*\"prime\"\n",
      "\n",
      "\n",
      "Topic: 2 \n",
      "Words: 0.059*\"alexa\" + 0.039*\"music\" + 0.026*\"home\" + 0.019*\"play\" + 0.019*\"devic\" + 0.019*\"smart\" + 0.017*\"light\" + 0.017*\"video\" + 0.015*\"famili\" + 0.015*\"sound\"\n",
      "\n",
      "\n",
      "Topic: 3 \n",
      "Words: 0.048*\"book\" + 0.029*\"best\" + 0.028*\"recommend\" + 0.022*\"reader\" + 0.017*\"light\" + 0.017*\"need\" + 0.016*\"upgrad\" + 0.015*\"want\" + 0.014*\"littl\" + 0.014*\"devic\"\n",
      "\n",
      "\n",
      "Topic: 4 \n",
      "Words: 0.049*\"year\" + 0.024*\"charg\" + 0.021*\"need\" + 0.020*\"ipad\" + 0.018*\"game\" + 0.017*\"replac\" + 0.017*\"book\" + 0.016*\"daughter\" + 0.016*\"gift\" + 0.016*\"christma\"\n",
      "\n",
      "\n",
      "Topic: 5 \n",
      "Words: 0.063*\"perfect\" + 0.029*\"item\" + 0.027*\"size\" + 0.024*\"gift\" + 0.021*\"recommend\" + 0.020*\"light\" + 0.020*\"app\" + 0.020*\"download\" + 0.019*\"price\" + 0.019*\"batteri\"\n",
      "\n",
      "\n",
      "Topic: 6 \n",
      "Words: 0.047*\"screen\" + 0.033*\"devic\" + 0.018*\"better\" + 0.017*\"app\" + 0.017*\"play\" + 0.014*\"featur\" + 0.013*\"connect\" + 0.012*\"littl\" + 0.012*\"button\" + 0.011*\"small\"\n",
      "\n",
      "\n"
     ]
    }
   ],
   "source": [
    "'''\n",
    "For each topic, we will explore the words occuring in that topic and its relative weight\n",
    "'''\n",
    "for idx, words in lda_model.print_topics(-1):\n",
    "    print(\"Topic: {} \\nWords: {}\".format(idx, words ))\n",
    "    print(\"\\n\")"
   ]
  },
  {
   "cell_type": "code",
   "execution_count": 46,
   "metadata": {},
   "outputs": [
    {
     "data": {
      "text/html": [
       "\n",
       "<link rel=\"stylesheet\" type=\"text/css\" href=\"https://cdn.rawgit.com/bmabey/pyLDAvis/files/ldavis.v1.0.0.css\">\n",
       "\n",
       "\n",
       "<div id=\"ldavis_el2247628057387112248589510186\"></div>\n",
       "<script type=\"text/javascript\">\n",
       "\n",
       "var ldavis_el2247628057387112248589510186_data = {\"mdsDat\": {\"x\": [-0.20379157457089742, -0.011269991776305168, 0.09489027416334117, 0.10732876630075809, 0.05779177665049193, -0.12953371524597698, 0.08458446447858907], \"y\": [-0.05752974416083527, -0.05471127929541085, 0.06256874554600649, -0.10888846247142644, 0.14481184618592413, 0.07529884028054988, -0.061549946084808294], \"topics\": [1, 2, 3, 4, 5, 6, 7], \"cluster\": [1, 1, 1, 1, 1, 1, 1], \"Freq\": [21.41014862060547, 16.763704299926758, 15.71629810333252, 12.915084838867188, 12.278526306152344, 11.325905799865723, 9.590332984924316]}, \"tinfo\": {\"Term\": [\"kid\", \"alexa\", \"perfect\", \"price\", \"sound\", \"book\", \"year\", \"music\", \"recommend\", \"screen\", \"watch\", \"item\", \"charg\", \"gift\", \"video\", \"size\", \"control\", \"learn\", \"home\", \"speaker\", \"reader\", \"smart\", \"ipad\", \"devic\", \"parent\", \"awesom\", \"qualiti\", \"plus\", \"replac\", \"download\", \"ring\", \"news\", \"recip\", \"lyric\", \"answer\", \"hear\", \"cook\", \"doorbel\", \"door\", \"command\", \"weather\", \"thermostat\", \"speak\", \"autom\", \"brief\", \"alexa\", \"question\", \"smart\", \"secur\", \"kitchen\", \"arlo\", \"skill\", \"list\", \"hous\", \"timer\", \"bedroom\", \"alarm\", \"ask\", \"live\", \"song\", \"music\", \"home\", \"room\", \"famili\", \"talk\", \"listen\", \"call\", \"have\", \"addit\", \"video\", \"tell\", \"light\", \"abl\", \"camera\", \"devic\", \"sound\", \"play\", \"gift\", \"help\", \"connect\", \"enjoy\", \"turn\", \"control\", \"speaker\", \"thing\", \"screen\", \"christma\", \"nice\", \"android\", \"button\", \"smaller\", \"bright\", \"leav\", \"processor\", \"softwar\", \"photo\", \"soon\", \"chang\", \"wish\", \"page\", \"generat\", \"tri\", \"version\", \"automat\", \"latest\", \"feel\", \"account\", \"decent\", \"larg\", \"small\", \"volum\", \"switch\", \"screen\", \"instal\", \"disappoint\", \"view\", \"faster\", \"wifi\", \"googl\", \"devic\", \"connect\", \"hold\", \"voyag\", \"better\", \"littl\", \"featur\", \"app\", \"pretti\", \"differ\", \"hand\", \"play\", \"size\", \"store\", \"game\", \"look\", \"phone\", \"think\", \"time\", \"thing\", \"come\", \"camera\", \"want\", \"child\", \"charger\", \"safe\", \"charg\", \"ipad\", \"age\", \"appropri\", \"mode\", \"grandson\", \"cheaper\", \"word\", \"replac\", \"edit\", \"day\", \"total\", \"year\", \"last\", \"hour\", \"return\", \"profil\", \"beginn\", \"week\", \"wireless\", \"user\", \"bring\", \"older\", \"lower\", \"cost\", \"level\", \"laptop\", \"reason\", \"month\", \"go\", \"christma\", \"friend\", \"daughter\", \"give\", \"model\", \"need\", \"wife\", \"game\", \"gift\", \"cover\", \"book\", \"know\", \"think\", \"want\", \"time\", \"app\", \"play\", \"enjoy\", \"price\", \"kid\", \"get\", \"best\", \"final\", \"ebook\", \"toddler\", \"inch\", \"experi\", \"reader\", \"exact\", \"decid\", \"upgrad\", \"librari\", \"paperwhit\", \"peopl\", \"drawback\", \"navig\", \"choic\", \"custom\", \"weight\", \"servic\", \"purs\", \"high\", \"valu\", \"own\", \"tabl\", \"market\", \"recommend\", \"excel\", \"program\", \"book\", \"dark\", \"card\", \"best\", \"right\", \"littl\", \"friend\", \"light\", \"need\", \"look\", \"want\", \"abl\", \"come\", \"daughter\", \"devic\", \"money\", \"price\", \"nice\", \"size\", \"friday\", \"young\", \"kid\", \"parent\", \"grand\", \"niec\", \"beat\", \"space\", \"trip\", \"speed\", \"adult\", \"educ\", \"awesom\", \"prime\", \"super\", \"worri\", \"expand\", \"control\", \"nephew\", \"happi\", \"black\", \"price\", \"movi\", \"plenti\", \"content\", \"afford\", \"mini\", \"entertain\", \"children\", \"hard\", \"free\", \"break\", \"game\", \"lot\", \"best\", \"nice\", \"want\", \"play\", \"download\", \"app\", \"color\", \"gift\", \"featur\", \"time\", \"year\", \"littl\", \"recommend\", \"watch\", \"one\", \"pair\", \"tool\", \"netflix\", \"packag\", \"activ\", \"relat\", \"graphic\", \"watch\", \"fantast\", \"loud\", \"daili\", \"select\", \"bulb\", \"brows\", \"clear\", \"qualiti\", \"sound\", \"youtub\", \"grandkid\", \"email\", \"pictur\", \"learn\", \"plus\", \"carri\", \"setup\", \"satisfi\", \"speaker\", \"display\", \"understand\", \"use\", \"video\", \"time\", \"thing\", \"better\", \"movi\", \"featur\", \"game\", \"nice\", \"play\", \"daughter\", \"look\", \"screen\", \"music\", \"want\", \"app\", \"enjoy\", \"wife\", \"everyday\", \"perfect\", \"step\", \"birthday\", \"advertis\", \"item\", \"holiday\", \"inexpens\", \"complaint\", \"blue\", \"eread\", \"backlight\", \"area\", \"travel\", \"integr\", \"task\", \"memori\", \"fast\", \"handl\", \"life\", \"busi\", \"wonder\", \"haven\", \"size\", \"school\", \"card\", \"perform\", \"lightweight\", \"oper\", \"download\", \"batteri\", \"entertain\", \"recommend\", \"gift\", \"learn\", \"light\", \"app\", \"price\", \"book\", \"hand\", \"better\", \"get\", \"thing\", \"screen\", \"amaz\", \"need\", \"enjoy\"], \"Freq\": [341.0, 429.0, 231.0, 404.0, 276.0, 383.0, 346.0, 324.0, 219.0, 434.0, 164.0, 125.0, 136.0, 277.0, 268.0, 188.0, 147.0, 155.0, 227.0, 177.0, 114.0, 137.0, 116.0, 393.0, 87.0, 120.0, 169.0, 167.0, 117.0, 145.0, 28.853939056396484, 57.68231201171875, 53.88777160644531, 27.70543098449707, 48.720176696777344, 46.71083450317383, 22.749637603759766, 20.908767700195312, 27.0511474609375, 30.610998153686523, 74.59371948242188, 15.18549919128418, 19.606351852416992, 22.04410743713379, 18.510265350341797, 382.52349853515625, 68.50080871582031, 122.48220825195312, 35.45735168457031, 51.955413818359375, 18.845783233642578, 24.706523895263672, 33.039527893066406, 90.44590759277344, 19.17723274230957, 19.042728424072266, 25.732057571411133, 43.56947326660156, 31.635112762451172, 26.621036529541016, 252.43475341796875, 167.02159118652344, 63.1906852722168, 100.92987060546875, 35.677547454833984, 59.07665252685547, 41.63246154785156, 72.70317077636719, 46.22560501098633, 109.89578247070312, 45.85588455200195, 112.18074798583984, 76.73800659179688, 67.78224182128906, 123.63660430908203, 100.52481842041016, 124.12080383300781, 82.69294738769531, 54.9321174621582, 57.649436950683594, 68.04597473144531, 57.16606903076172, 57.975364685058594, 61.04377746582031, 62.55940628051758, 66.31996154785156, 57.03750228881836, 56.308074951171875, 41.58864212036133, 59.441776275634766, 24.880434036254883, 36.25363540649414, 18.587366104125977, 12.740957260131836, 12.662545204162598, 27.579315185546875, 14.18704891204834, 34.70094299316406, 55.15312194824219, 46.730934143066406, 26.82271385192871, 40.565181732177734, 45.72154235839844, 14.521994590759277, 9.858013153076172, 35.73192596435547, 32.734405517578125, 23.349102020263672, 11.090935707092285, 56.744873046875, 10.839558601379395, 15.00291919708252, 240.8173370361328, 32.76280212402344, 22.657936096191406, 32.679561614990234, 20.863046646118164, 30.98663330078125, 50.077789306640625, 167.44717407226562, 64.97516632080078, 36.79827117919922, 26.996654510498047, 91.16336059570312, 62.59935760498047, 70.89641571044922, 88.56083679199219, 37.37931442260742, 41.6390266418457, 36.60361862182617, 86.6490478515625, 47.69645690917969, 38.55174255371094, 55.35810470581055, 45.84490966796875, 37.328025817871094, 39.59449768066406, 45.25603485107422, 42.20803451538086, 38.880088806152344, 38.051387786865234, 38.494407653808594, 61.34788513183594, 29.757183074951172, 15.83177375793457, 113.35992431640625, 93.7995376586914, 23.61442756652832, 12.7855224609375, 16.49954605102539, 70.33675384521484, 20.379150390625, 22.68004035949707, 83.97006225585938, 15.751022338867188, 26.816808700561523, 12.038941383361816, 236.32052612304688, 25.454410552978516, 29.4094295501709, 27.964712142944336, 13.231513977050781, 10.107970237731934, 33.89568328857422, 14.789995193481445, 36.87228012084961, 14.791248321533203, 30.479400634765625, 9.175666809082031, 21.548315048217773, 9.349827766418457, 17.635854721069336, 26.079612731933594, 26.132537841796875, 51.10466384887695, 76.42465209960938, 64.0570068359375, 78.89693450927734, 43.216758728027344, 37.16635513305664, 101.96542358398438, 51.400299072265625, 86.0707015991211, 77.76517486572266, 32.036956787109375, 81.0633316040039, 41.2826042175293, 46.41147232055664, 65.37262725830078, 69.1195068359375, 58.36241912841797, 63.1500244140625, 50.14152145385742, 62.07838439941406, 41.72512435913086, 34.108036041259766, 33.400367736816406, 17.848819732666016, 23.41318130493164, 17.50210189819336, 19.822925567626953, 27.647388458251953, 87.64498901367188, 27.72466278076172, 34.40947723388672, 64.01296997070312, 22.95711326599121, 37.072879791259766, 19.71380043029785, 11.416096687316895, 31.252304077148438, 23.284141540527344, 21.354507446289062, 27.92739486694336, 33.02510070800781, 16.879526138305664, 46.80864334106445, 32.02524948120117, 14.361875534057617, 11.252714157104492, 10.335597038269043, 111.74132537841797, 41.10235595703125, 15.092633247375488, 187.50498962402344, 11.406732559204102, 23.292272567749023, 113.44940948486328, 34.851688385009766, 56.52096939086914, 48.68922805786133, 68.0373306274414, 66.56533813476562, 51.352317810058594, 59.518882751464844, 44.550872802734375, 41.01416778564453, 41.20022201538086, 54.31171798706055, 27.08465576171875, 40.90507888793945, 32.470829010009766, 28.209108352661133, 24.426422119140625, 18.48808479309082, 274.048828125, 68.77436828613281, 22.802337646484375, 16.190853118896484, 34.259132385253906, 21.020078659057617, 19.397947311401367, 15.492775917053223, 21.553075790405273, 24.255409240722656, 76.85964965820312, 53.24594497680664, 24.11918830871582, 10.876504898071289, 13.546952247619629, 80.44113159179688, 15.554731369018555, 70.25762939453125, 24.107038497924805, 204.72378540039062, 57.04197692871094, 10.81274700164795, 15.83527946472168, 13.258203506469727, 11.414128303527832, 22.96150016784668, 34.67293930053711, 17.445680618286133, 46.88017654418945, 21.442176818847656, 82.9863052368164, 22.174718856811523, 50.63804626464844, 42.645599365234375, 49.438323974609375, 58.8051872253418, 34.29526138305664, 47.57228469848633, 24.91708755493164, 35.86140441894531, 31.85063362121582, 33.1252326965332, 30.989635467529297, 26.953983306884766, 27.775800704956055, 23.85725975036621, 17.65118408203125, 16.894306182861328, 21.331600189208984, 30.33954620361328, 12.666653633117676, 26.602455139160156, 15.397651672363281, 14.510032653808594, 105.3276138305664, 18.005821228027344, 10.170496940612793, 21.412626266479492, 11.744481086730957, 28.58462142944336, 17.40614128112793, 37.707725524902344, 85.77726745605469, 139.68841552734375, 23.339996337890625, 14.112862586975098, 23.370206832885742, 52.15272903442383, 74.14700317382812, 77.11779022216797, 17.48720932006836, 20.310728073120117, 11.484464645385742, 76.28873443603516, 29.227432250976562, 14.790042877197266, 47.282718658447266, 99.33616638183594, 109.92994689941406, 60.06129837036133, 57.45823287963867, 33.485755920410156, 46.750892639160156, 56.82201385498047, 37.32050323486328, 46.49407196044922, 31.553735733032227, 32.294315338134766, 39.77729415893555, 32.41720962524414, 27.442855834960938, 26.415475845336914, 24.312374114990234, 23.766847610473633, 18.662403106689453, 185.9686737060547, 20.122661590576172, 29.8591365814209, 19.606182098388672, 84.39970397949219, 10.409819602966309, 15.23847484588623, 23.0694580078125, 12.711325645446777, 16.88010597229004, 9.84901237487793, 12.121546745300293, 27.66836166381836, 10.642999649047852, 8.318976402282715, 23.777830123901367, 37.56169128417969, 11.716998100280762, 48.84123611450195, 9.371346473693848, 17.931333541870117, 14.377928733825684, 80.47357177734375, 13.860490798950195, 21.678985595703125, 15.867043495178223, 8.790651321411133, 14.794854164123535, 57.18345642089844, 55.186500549316406, 19.32209014892578, 60.811195373535156, 71.09019470214844, 43.76713180541992, 59.25045394897461, 58.240333557128906, 55.584774017333984, 53.311485290527344, 23.616077423095703, 36.02018737792969, 25.406211853027344, 31.987028121948242, 35.03163528442383, 23.047391891479492, 27.581743240356445, 21.734155654907227], \"Total\": [341.0, 429.0, 231.0, 404.0, 276.0, 383.0, 346.0, 324.0, 219.0, 434.0, 164.0, 125.0, 136.0, 277.0, 268.0, 188.0, 147.0, 155.0, 227.0, 177.0, 114.0, 137.0, 116.0, 393.0, 87.0, 120.0, 169.0, 167.0, 117.0, 145.0, 30.194347381591797, 60.4300422668457, 56.51792526245117, 29.227628707885742, 51.6541862487793, 49.68087387084961, 24.364185333251953, 22.407363891601562, 29.20012855529785, 33.13641357421875, 80.96636199951172, 16.56614112854004, 21.44864845275879, 24.379905700683594, 20.49920082092285, 429.426025390625, 76.96785736083984, 137.71963500976562, 39.96421432495117, 58.611915588378906, 21.466569900512695, 28.216684341430664, 38.079891204833984, 105.29615783691406, 22.490943908691406, 22.4615478515625, 31.310636520385742, 53.69660568237305, 39.19037628173828, 33.100650787353516, 324.2900390625, 227.63014221191406, 84.25032806396484, 150.5381317138672, 46.076725006103516, 85.5005874633789, 57.94972229003906, 121.38339233398438, 70.74533081054688, 268.478271484375, 72.92738342285156, 308.713623046875, 170.0696258544922, 140.68148803710938, 393.11041259765625, 276.293212890625, 408.72552490234375, 277.9903564453125, 119.84258270263672, 138.7264404296875, 222.349609375, 139.73660278320312, 147.82066345214844, 177.74560546875, 247.76161193847656, 434.0016784667969, 172.59222412109375, 205.188720703125, 45.47005844116211, 65.40614318847656, 28.676416397094727, 42.42386245727539, 22.829021453857422, 15.807092666625977, 16.789005279541016, 36.754119873046875, 19.683006286621094, 49.254703521728516, 78.86646270751953, 70.3921127319336, 40.73621368408203, 61.71683120727539, 70.18897247314453, 22.61896514892578, 15.732001304626465, 57.070247650146484, 52.48112106323242, 39.5919303894043, 18.85672378540039, 97.31776428222656, 18.6931095123291, 26.491172790527344, 434.0016784667969, 59.52497863769531, 41.78208923339844, 60.960201263427734, 39.00712585449219, 59.02165603637695, 96.74714660644531, 393.11041259765625, 138.7264404296875, 73.20108032226562, 52.70109176635742, 248.32907104492188, 169.45379638671875, 204.3500213623047, 303.0613098144531, 87.67100524902344, 104.1335220336914, 87.00654602050781, 408.72552490234375, 188.2098846435547, 108.47401428222656, 316.1683044433594, 198.801025390625, 107.61764526367188, 147.5269775390625, 332.42620849609375, 247.76161193847656, 162.55189514160156, 140.68148803710938, 289.5934753417969, 63.84253692626953, 32.45241165161133, 18.155254364013672, 136.91050720214844, 116.9770736694336, 29.761484146118164, 16.356796264648438, 21.12470054626465, 91.51982116699219, 26.87632942199707, 30.674407958984375, 117.53718566894531, 22.128469467163086, 38.50503158569336, 17.312362670898438, 346.0776062011719, 39.7949333190918, 46.27595138549805, 44.56845474243164, 21.277116775512695, 16.477771759033203, 57.242027282714844, 25.305938720703125, 64.1134262084961, 27.128931045532227, 56.318111419677734, 17.47569465637207, 41.83079528808594, 18.50295639038086, 34.98488998413086, 53.36499786376953, 53.580902099609375, 110.75444793701172, 172.59222412109375, 142.57313537597656, 181.3693084716797, 92.79557037353516, 82.05592346191406, 299.527099609375, 133.29000854492188, 316.1683044433594, 277.9903564453125, 73.09022521972656, 383.3512268066406, 117.07540893554688, 147.5269775390625, 289.5934753417969, 332.42620849609375, 303.0613098144531, 408.72552490234375, 222.349609375, 404.20947265625, 341.9779968261719, 121.2186279296875, 278.7554626464844, 20.07813835144043, 27.171297073364258, 21.058839797973633, 24.10254669189453, 35.93977355957031, 114.18083953857422, 36.972930908203125, 46.16014099121094, 90.97138977050781, 32.92551040649414, 54.099830627441406, 29.001401901245117, 17.02986717224121, 46.73685073852539, 34.84968566894531, 31.9827938079834, 42.90933609008789, 50.963199615478516, 26.983150482177734, 78.13229370117188, 54.58053970336914, 25.003503799438477, 19.798274993896484, 18.819602966308594, 219.625732421875, 82.79881286621094, 30.647737503051758, 383.3512268066406, 24.476329803466797, 51.36144256591797, 278.7554626464844, 87.55130004882812, 169.45379638671875, 142.57313537597656, 308.713623046875, 299.527099609375, 198.801025390625, 289.5934753417969, 170.0696258544922, 162.55189514160156, 181.3693084716797, 393.11041259765625, 77.81224822998047, 404.20947265625, 205.188720703125, 188.2098846435547, 29.816091537475586, 22.76105308532715, 341.9779968261719, 87.80098724365234, 29.799896240234375, 21.71246337890625, 47.28107833862305, 31.943824768066406, 29.64382553100586, 23.678091049194336, 33.38438415527344, 37.60670852661133, 120.88982391357422, 91.15264129638672, 42.48663330078125, 19.750736236572266, 24.681652069091797, 147.82066345214844, 29.259971618652344, 132.8625030517578, 46.55378341674805, 404.20947265625, 114.7476806640625, 21.861671447753906, 32.71807861328125, 27.891860961914062, 24.439043045043945, 50.31669998168945, 76.41999053955078, 38.60493850708008, 106.41205596923828, 49.08717727661133, 316.1683044433594, 56.11623001098633, 278.7554626464844, 205.188720703125, 289.5934753417969, 408.72552490234375, 145.99261474609375, 303.0613098144531, 77.43537139892578, 277.9903564453125, 204.3500213623047, 332.42620849609375, 346.0776062011719, 169.45379638671875, 219.625732421875, 164.724609375, 20.230146408081055, 20.235851287841797, 26.321773529052734, 37.4665641784668, 17.139019012451172, 36.3635368347168, 21.153907775878906, 21.97623634338379, 164.724609375, 28.191547393798828, 16.09926414489746, 34.08361053466797, 18.90983772277832, 50.95451736450195, 31.93168067932129, 72.98665618896484, 169.54525756835938, 276.293212890625, 46.97567367553711, 28.5346622467041, 48.249324798583984, 107.9118423461914, 155.21363830566406, 167.5731201171875, 39.361083984375, 45.93769073486328, 26.13276481628418, 177.74560546875, 68.66748046875, 34.83106994628906, 116.46990966796875, 268.478271484375, 332.42620849609375, 247.76161193847656, 248.32907104492188, 114.7476806640625, 204.3500213623047, 316.1683044433594, 205.188720703125, 408.72552490234375, 181.3693084716797, 198.801025390625, 434.0016784667969, 324.2900390625, 289.5934753417969, 303.0613098144531, 222.349609375, 133.29000854492188, 21.437349319458008, 231.78933715820312, 27.33266258239746, 41.30485153198242, 27.407794952392578, 125.58612060546875, 15.727856636047363, 23.51462173461914, 35.914730072021484, 20.663610458374023, 27.519128799438477, 16.59662628173828, 20.699363708496094, 48.302711486816406, 18.6810245513916, 15.753145217895508, 47.268165588378906, 75.02682495117188, 23.63235855102539, 104.21105194091797, 20.83523178100586, 40.338661193847656, 32.35014724731445, 188.2098846435547, 32.810546875, 51.36144256591797, 38.297119140625, 21.60904312133789, 37.52523422241211, 145.99261474609375, 147.0478515625, 50.31669998168945, 219.625732421875, 277.9903564453125, 155.21363830566406, 308.713623046875, 303.0613098144531, 404.20947265625, 383.3512268066406, 87.00654602050781, 248.32907104492188, 121.2186279296875, 247.76161193847656, 434.0016784667969, 112.38005828857422, 299.527099609375, 222.349609375], \"Category\": [\"Default\", \"Default\", \"Default\", \"Default\", \"Default\", \"Default\", \"Default\", \"Default\", \"Default\", \"Default\", \"Default\", \"Default\", \"Default\", \"Default\", \"Default\", \"Default\", \"Default\", \"Default\", \"Default\", \"Default\", \"Default\", \"Default\", \"Default\", \"Default\", \"Default\", \"Default\", \"Default\", \"Default\", \"Default\", \"Default\", \"Topic1\", \"Topic1\", \"Topic1\", \"Topic1\", \"Topic1\", \"Topic1\", \"Topic1\", \"Topic1\", \"Topic1\", \"Topic1\", \"Topic1\", \"Topic1\", \"Topic1\", \"Topic1\", \"Topic1\", \"Topic1\", \"Topic1\", \"Topic1\", \"Topic1\", \"Topic1\", \"Topic1\", \"Topic1\", \"Topic1\", \"Topic1\", \"Topic1\", \"Topic1\", \"Topic1\", \"Topic1\", \"Topic1\", \"Topic1\", \"Topic1\", \"Topic1\", \"Topic1\", \"Topic1\", \"Topic1\", \"Topic1\", \"Topic1\", \"Topic1\", \"Topic1\", \"Topic1\", \"Topic1\", \"Topic1\", \"Topic1\", \"Topic1\", \"Topic1\", \"Topic1\", \"Topic1\", \"Topic1\", \"Topic1\", \"Topic1\", \"Topic1\", \"Topic1\", \"Topic1\", \"Topic1\", \"Topic1\", \"Topic1\", \"Topic1\", \"Topic1\", \"Topic2\", \"Topic2\", \"Topic2\", \"Topic2\", \"Topic2\", \"Topic2\", \"Topic2\", \"Topic2\", \"Topic2\", \"Topic2\", \"Topic2\", \"Topic2\", \"Topic2\", \"Topic2\", \"Topic2\", \"Topic2\", \"Topic2\", \"Topic2\", \"Topic2\", \"Topic2\", \"Topic2\", \"Topic2\", \"Topic2\", \"Topic2\", \"Topic2\", \"Topic2\", \"Topic2\", \"Topic2\", \"Topic2\", \"Topic2\", \"Topic2\", \"Topic2\", \"Topic2\", \"Topic2\", \"Topic2\", \"Topic2\", \"Topic2\", \"Topic2\", \"Topic2\", \"Topic2\", \"Topic2\", \"Topic2\", \"Topic2\", \"Topic2\", \"Topic2\", \"Topic2\", \"Topic2\", \"Topic2\", \"Topic2\", \"Topic2\", \"Topic2\", \"Topic2\", \"Topic2\", \"Topic2\", \"Topic3\", \"Topic3\", \"Topic3\", \"Topic3\", \"Topic3\", \"Topic3\", \"Topic3\", \"Topic3\", \"Topic3\", \"Topic3\", \"Topic3\", \"Topic3\", \"Topic3\", \"Topic3\", \"Topic3\", \"Topic3\", \"Topic3\", \"Topic3\", \"Topic3\", \"Topic3\", \"Topic3\", \"Topic3\", \"Topic3\", \"Topic3\", \"Topic3\", \"Topic3\", \"Topic3\", \"Topic3\", \"Topic3\", \"Topic3\", \"Topic3\", \"Topic3\", \"Topic3\", \"Topic3\", \"Topic3\", \"Topic3\", \"Topic3\", \"Topic3\", \"Topic3\", \"Topic3\", \"Topic3\", \"Topic3\", \"Topic3\", \"Topic3\", \"Topic3\", \"Topic3\", \"Topic3\", \"Topic3\", \"Topic3\", \"Topic3\", \"Topic3\", \"Topic3\", \"Topic3\", \"Topic3\", \"Topic3\", \"Topic4\", \"Topic4\", \"Topic4\", \"Topic4\", \"Topic4\", \"Topic4\", \"Topic4\", \"Topic4\", \"Topic4\", \"Topic4\", \"Topic4\", \"Topic4\", \"Topic4\", \"Topic4\", \"Topic4\", \"Topic4\", \"Topic4\", \"Topic4\", \"Topic4\", \"Topic4\", \"Topic4\", \"Topic4\", \"Topic4\", \"Topic4\", \"Topic4\", \"Topic4\", \"Topic4\", \"Topic4\", \"Topic4\", \"Topic4\", \"Topic4\", \"Topic4\", \"Topic4\", \"Topic4\", \"Topic4\", \"Topic4\", \"Topic4\", \"Topic4\", \"Topic4\", \"Topic4\", \"Topic4\", \"Topic4\", \"Topic4\", \"Topic4\", \"Topic4\", \"Topic4\", \"Topic5\", \"Topic5\", \"Topic5\", \"Topic5\", \"Topic5\", \"Topic5\", \"Topic5\", \"Topic5\", \"Topic5\", \"Topic5\", \"Topic5\", \"Topic5\", \"Topic5\", \"Topic5\", \"Topic5\", \"Topic5\", \"Topic5\", \"Topic5\", \"Topic5\", \"Topic5\", \"Topic5\", \"Topic5\", \"Topic5\", \"Topic5\", \"Topic5\", \"Topic5\", \"Topic5\", \"Topic5\", \"Topic5\", \"Topic5\", \"Topic5\", \"Topic5\", \"Topic5\", \"Topic5\", \"Topic5\", \"Topic5\", \"Topic5\", \"Topic5\", \"Topic5\", \"Topic5\", \"Topic5\", \"Topic5\", \"Topic5\", \"Topic5\", \"Topic5\", \"Topic5\", \"Topic5\", \"Topic5\", \"Topic6\", \"Topic6\", \"Topic6\", \"Topic6\", \"Topic6\", \"Topic6\", \"Topic6\", \"Topic6\", \"Topic6\", \"Topic6\", \"Topic6\", \"Topic6\", \"Topic6\", \"Topic6\", \"Topic6\", \"Topic6\", \"Topic6\", \"Topic6\", \"Topic6\", \"Topic6\", \"Topic6\", \"Topic6\", \"Topic6\", \"Topic6\", \"Topic6\", \"Topic6\", \"Topic6\", \"Topic6\", \"Topic6\", \"Topic6\", \"Topic6\", \"Topic6\", \"Topic6\", \"Topic6\", \"Topic6\", \"Topic6\", \"Topic6\", \"Topic6\", \"Topic6\", \"Topic6\", \"Topic6\", \"Topic6\", \"Topic6\", \"Topic6\", \"Topic6\", \"Topic6\", \"Topic6\", \"Topic6\", \"Topic7\", \"Topic7\", \"Topic7\", \"Topic7\", \"Topic7\", \"Topic7\", \"Topic7\", \"Topic7\", \"Topic7\", \"Topic7\", \"Topic7\", \"Topic7\", \"Topic7\", \"Topic7\", \"Topic7\", \"Topic7\", \"Topic7\", \"Topic7\", \"Topic7\", \"Topic7\", \"Topic7\", \"Topic7\", \"Topic7\", \"Topic7\", \"Topic7\", \"Topic7\", \"Topic7\", \"Topic7\", \"Topic7\", \"Topic7\", \"Topic7\", \"Topic7\", \"Topic7\", \"Topic7\", \"Topic7\", \"Topic7\", \"Topic7\", \"Topic7\", \"Topic7\", \"Topic7\", \"Topic7\", \"Topic7\", \"Topic7\", \"Topic7\", \"Topic7\", \"Topic7\", \"Topic7\"], \"logprob\": [30.0, 29.0, 28.0, 27.0, 26.0, 25.0, 24.0, 23.0, 22.0, 21.0, 20.0, 19.0, 18.0, 17.0, 16.0, 15.0, 14.0, 13.0, 12.0, 11.0, 10.0, 9.0, 8.0, 7.0, 6.0, 5.0, 4.0, 3.0, 2.0, 1.0, -5.4232001304626465, -4.730500221252441, -4.798500061035156, -5.463799953460693, -4.8993000984191895, -4.941400051116943, -5.660900115966797, -5.745299816131592, -5.48769998550415, -5.364099979400635, -4.473400115966797, -6.065100193023682, -5.809599876403809, -5.692399978637695, -5.867099761962891, -2.838599920272827, -4.558599948883057, -3.9774999618530273, -5.217100143432617, -4.835000038146973, -5.849100112915039, -5.578400135040283, -5.287700176239014, -4.280700206756592, -5.831699848175049, -5.838699817657471, -5.537700176239014, -5.011099815368652, -5.331200122833252, -5.503699779510498, -3.254300117492676, -3.66729998588562, -4.6392998695373535, -4.171000003814697, -5.210899829864502, -4.706600189208984, -5.05649995803833, -4.499000072479248, -4.951900005340576, -4.085899829864502, -4.95989990234375, -4.065299987792969, -4.445000171661377, -4.5690999031066895, -3.968100070953369, -4.175000190734863, -3.964200019836426, -4.370299816131592, -4.779300212860107, -4.730999946594238, -4.565199851989746, -4.739500045776367, -4.725399971008301, -4.673799991607666, -4.6493000984191895, -4.59089994430542, -4.741700172424316, -4.7546000480651855, -4.812900066375732, -4.4558000564575195, -5.326700210571289, -4.950200080871582, -5.618299961090088, -5.995999813079834, -6.002099990844727, -5.223700046539307, -5.888400077819824, -4.99399995803833, -4.530700206756592, -4.696400165557861, -5.251500129699707, -4.837900161743164, -4.718200206756592, -5.865099906921387, -6.252500057220459, -4.964700222015381, -5.052299976348877, -5.390200138092041, -6.1346001625061035, -4.502200126647949, -6.157599925994873, -5.832499980926514, -3.0566999912261963, -5.051499843597412, -5.420300006866455, -5.053999900817871, -5.502799987792969, -5.1072001457214355, -4.627200126647949, -3.420099973678589, -4.366799831390381, -4.935299873352051, -5.245100021362305, -4.02810001373291, -4.4039998054504395, -4.279600143432617, -4.05709981918335, -4.9197001457214355, -4.811699867248535, -4.9405999183654785, -4.07889986038208, -4.675899982452393, -4.888800144195557, -4.526899814605713, -4.7154998779296875, -4.921000003814697, -4.862100124359131, -4.728400230407715, -4.7982001304626465, -4.880300045013428, -4.901800155639648, -4.8902997970581055, -4.3597002029418945, -5.083199977874756, -5.714200019836426, -3.745699882507324, -3.9351000785827637, -5.3144001960754395, -5.9278998374938965, -5.672900199890137, -4.2230000495910645, -5.461699962615967, -5.354800224304199, -4.04580020904541, -5.719299793243408, -5.18720006942749, -5.988100051879883, -3.0111000537872314, -5.2393999099731445, -5.094900131225586, -5.145299911499023, -5.893700122833252, -6.162899971008301, -4.953000068664551, -5.782299995422363, -4.868800163269043, -5.782199859619141, -5.059199810028076, -6.259699821472168, -5.406000137329102, -6.240900039672852, -5.606299877166748, -5.215099811553955, -5.213099956512451, -4.542399883270264, -4.139900207519531, -4.316500186920166, -4.108099937438965, -4.710000038146973, -4.860899925231934, -3.851599931716919, -4.536600112915039, -4.021100044250488, -4.122600078582764, -5.009399890899658, -4.080999851226807, -4.755799770355225, -4.638700008392334, -4.296199798583984, -4.2403998374938965, -4.409599781036377, -4.330699920654297, -4.561399936676025, -4.347899913787842, -4.745200157165527, -4.946700096130371, -4.967700004577637, -5.3979997634887695, -5.126699924468994, -5.417600154876709, -5.293099880218506, -4.960400104522705, -3.8066999912261963, -4.957600116729736, -4.741600036621094, -4.1209001541137695, -5.146299839019775, -4.667099952697754, -5.298600196838379, -5.844900131225586, -4.837900161743164, -5.132199764251709, -5.218699932098389, -4.950300216674805, -4.782700061798096, -5.45389986038208, -4.433899879455566, -4.813399791717529, -5.6153998374938965, -5.859300136566162, -5.944399833679199, -3.563800096511841, -4.563899993896484, -5.565700054168701, -3.046099901199341, -5.845699787139893, -5.131800174713135, -3.5485999584198, -4.728899955749512, -4.245299816131592, -4.394499778747559, -4.059899806976318, -4.0817999839782715, -4.34119987487793, -4.193699836730957, -4.48330020904541, -4.565999984741211, -4.561500072479248, -4.285200119018555, -4.980999946594238, -4.568699836730957, -4.799600124359131, -4.940299987792969, -5.033699989318848, -5.312300205230713, -2.6161000728607178, -3.9986000061035156, -5.102499961853027, -5.445000171661377, -4.695499897003174, -5.183899879455566, -5.264200210571289, -5.488999843597412, -5.158899784088135, -5.040800094604492, -3.887399911880493, -4.254499912261963, -5.04640007019043, -5.842800140380859, -5.623199939727783, -3.841900110244751, -5.485000133514404, -3.9772000312805176, -5.046899795532227, -2.9077000617980957, -4.1855998039245605, -5.848700046539307, -5.467199802398682, -5.644800186157227, -5.794600009918213, -5.095600128173828, -4.6834001541137695, -5.370299816131592, -4.381800174713135, -5.164000034332275, -3.810699939727783, -5.130499839782715, -4.304699897766113, -4.476500034332275, -4.328700065612793, -4.155200004577637, -4.694399833679199, -4.367199897766113, -5.013899803161621, -4.649700164794922, -4.768400192260742, -4.729100227355957, -4.79580020904541, -4.935299873352051, -4.905200004577637, -5.057300090789795, -5.2778000831604, -5.321700096130371, -5.088500022888184, -4.736199855804443, -5.6097002029418945, -4.867599964141846, -5.414400100708008, -5.473800182342529, -3.4916000366210938, -5.257999897003174, -5.82919979095459, -5.084700107574463, -5.685299873352051, -4.79580020904541, -5.291800022125244, -4.518799781799316, -3.696899890899658, -3.209199905395508, -4.998499870300293, -5.5015997886657715, -4.997200012207031, -4.194499969482422, -3.842600107192993, -3.803299903869629, -5.287199974060059, -5.137499809265137, -5.707699775695801, -3.8141000270843506, -4.773499965667725, -5.454699993133545, -4.292500019073486, -3.550100088119507, -3.4488000869750977, -4.053299903869629, -4.097599983215332, -4.637499809265137, -4.303800106048584, -4.108699798583984, -4.529099941253662, -4.309299945831299, -4.697000026702881, -4.673799991607666, -4.465400218963623, -4.670000076293945, -4.83650016784668, -4.87470006942749, -4.957699775695801, -4.980400085449219, -5.055799961090088, -2.756700038909912, -4.980500221252441, -4.5858001708984375, -5.006499767303467, -3.5467000007629395, -5.639599800109863, -5.258500099182129, -4.843800067901611, -5.439799785614014, -5.156199932098389, -5.694900035858154, -5.487299919128418, -4.6620001792907715, -5.617400169372559, -5.863800048828125, -4.813600063323975, -4.356299877166748, -5.521299839019775, -4.093699932098389, -5.744699954986572, -5.095799922943115, -5.3165998458862305, -3.594399929046631, -5.353300094604492, -4.906000137329102, -5.218100070953369, -5.808599948883057, -5.288000106811523, -3.936000108718872, -3.97160005569458, -5.021100044250488, -3.874500036239624, -3.718400001525879, -4.203400135040283, -3.9005000591278076, -3.9177000522613525, -3.964400053024292, -4.006199836730957, -4.820400238037109, -4.398200035095215, -4.747300148010254, -4.517000198364258, -4.42609977722168, -4.844799995422363, -4.665200233459473, -4.90339994430542], \"loglift\": [30.0, 29.0, 28.0, 27.0, 26.0, 25.0, 24.0, 23.0, 22.0, 21.0, 20.0, 19.0, 18.0, 17.0, 16.0, 15.0, 14.0, 13.0, 12.0, 11.0, 10.0, 9.0, 8.0, 7.0, 6.0, 5.0, 4.0, 3.0, 2.0, 1.0, 1.49590003490448, 1.4947999715805054, 1.4937000274658203, 1.4878000020980835, 1.482800006866455, 1.479699969291687, 1.4726999998092651, 1.472100019454956, 1.464900016784668, 1.4620000123977661, 1.4593000411987305, 1.454300045967102, 1.4515000581741333, 1.440600037574768, 1.4392000436782837, 1.4256000518798828, 1.4248000383377075, 1.4241000413894653, 1.4217000007629395, 1.420799970626831, 1.4111000299453735, 1.4084999561309814, 1.3992999792099, 1.389299988746643, 1.3818999528884888, 1.3761999607086182, 1.3451000452041626, 1.3322999477386475, 1.3271000385284424, 1.3235000371932983, 1.2907999753952026, 1.2316999435424805, 1.2537000179290771, 1.1414999961853027, 1.2855000495910645, 1.1715999841690063, 1.2106000185012817, 1.0286999940872192, 1.1158000230789185, 0.6481000185012817, 1.077299952507019, 0.5289999842643738, 0.7455000281333923, 0.8111000061035156, 0.3846000134944916, 0.5302000045776367, 0.34950000047683716, 0.328900009393692, 0.7612000107765198, 0.6632000207901001, 0.3571999967098236, 0.6474999785423279, 0.6053000092506409, 0.4724999964237213, 0.16500000655651093, -0.33730000257492065, 0.4341000020503998, 0.24819999933242798, 1.6966999769210815, 1.6902999877929688, 1.6440000534057617, 1.6288000345230103, 1.580399990081787, 1.5702999830245972, 1.5039000511169434, 1.4988000392913818, 1.4585000276565552, 1.4357000589370728, 1.4283000230789185, 1.3762999773025513, 1.3681000471115112, 1.3662999868392944, 1.357300043106079, 1.3428000211715698, 1.31850004196167, 1.3177000284194946, 1.3138999938964844, 1.2578999996185303, 1.2552000284194946, 1.246500015258789, 1.2410000562667847, 1.2173999547958374, 1.1969000101089478, 1.1888999938964844, 1.1740000247955322, 1.162500023841858, 1.1601999998092651, 1.1416000127792358, 1.1274000406265259, 0.9325000047683716, 1.027500033378601, 1.0981999635696411, 1.1169999837875366, 0.7839000225067139, 0.7900999784469604, 0.7272999882698059, 0.5557000041007996, 0.9334999918937683, 0.8693000078201294, 0.9200999736785889, 0.23479999601840973, 0.4133000075817108, 0.7513999938964844, 0.04349999874830246, 0.3188999891281128, 0.7271000146865845, 0.4706000089645386, -0.20810000598430634, 0.016100000590085983, 0.3553999960422516, 0.47839999198913574, -0.23199999332427979, 1.8106000423431396, 1.763800024986267, 1.7135000228881836, 1.6617000102996826, 1.629699945449829, 1.6190999746322632, 1.604099988937378, 1.6033999919891357, 1.5872000455856323, 1.573699951171875, 1.5484999418258667, 1.51419997215271, 1.5104999542236328, 1.488700032234192, 1.4872000217437744, 1.468999981880188, 1.4035999774932861, 1.3971999883651733, 1.3844000101089478, 1.3753999471664429, 1.361799955368042, 1.3265000581741333, 1.3134000301361084, 1.2972999811172485, 1.243899941444397, 1.2365000247955322, 1.2062000036239624, 1.1871000528335571, 1.1678999662399292, 1.1655000448226929, 1.1345000267028809, 1.1325000524520874, 1.0770000219345093, 1.0357999801635742, 1.0504000186920166, 1.0181000232696533, 1.086300015449524, 1.058500051498413, 0.7728999853134155, 0.897599995136261, 0.5493999719619751, 0.5766000151634216, 1.0256999731063843, 0.29679998755455017, 0.8080999851226807, 0.6940000057220459, 0.3621000051498413, 0.2799000144004822, 0.20319999754428864, -0.017100000753998756, 0.3610999882221222, -0.023099999874830246, -0.2531999945640564, 0.5824000239372253, -0.27129998803138733, 1.9291000366210938, 1.8978999853134155, 1.861799955368042, 1.8513000011444092, 1.784500002861023, 1.7822999954223633, 1.7589000463485718, 1.753000020980835, 1.6952999830245972, 1.6862000226974487, 1.6687999963760376, 1.6606999635696411, 1.6468000411987305, 1.6442999839782715, 1.6434999704360962, 1.642799973487854, 1.617300033569336, 1.6129000186920166, 1.5777000188827515, 1.5343999862670898, 1.5135999917984009, 1.492300033569336, 1.4817999601364136, 1.4474999904632568, 1.371000051498413, 1.3464000225067139, 1.3384000062942505, 1.3315999507904053, 1.2833000421524048, 1.25600004196167, 1.1477999687194824, 1.1256999969482422, 0.9488000273704529, 0.9724000096321106, 0.5343999862670898, 0.5428000092506409, 0.6931999921798706, 0.46459999680519104, 0.7071999907493591, 0.669700026512146, 0.5647000074386597, 0.0674000009894371, 0.9914000034332275, -0.24390000104904175, 0.20319999754428864, 0.14890000224113464, 1.8978999853134155, 1.8894000053405762, 1.8759000301361084, 1.8530999422073364, 1.829699993133545, 1.8039000034332275, 1.7752000093460083, 1.6787999868392944, 1.673200011253357, 1.6730999946594238, 1.6597000360488892, 1.6588000059127808, 1.6444000005722046, 1.5597000122070312, 1.5311000347137451, 1.5006999969482422, 1.4974000453948975, 1.488800048828125, 1.465499997138977, 1.4601999521255493, 1.4392000436782837, 1.4170000553131104, 1.3983999490737915, 1.3933000564575195, 1.3716000318527222, 1.353600025177002, 1.3359999656677246, 1.3128000497817993, 1.3070000410079956, 1.3029999732971191, 1.2776000499725342, 1.2690999507904053, 0.7597000002861023, 1.1687999963760376, 0.39169999957084656, 0.5263000130653381, 0.3296000063419342, 0.15850000083446503, 0.6488000154495239, 0.24560000002384186, 0.9634000062942505, 0.049400001764297485, 0.23849999904632568, -0.20880000293254852, -0.3156999945640564, 0.258899986743927, 0.029600000008940697, 0.16509999334812164, 2.0416998863220215, 1.9975999593734741, 1.967900037765503, 1.9671000242233276, 1.8756999969482422, 1.8654999732971191, 1.8604999780654907, 1.7630000114440918, 1.7309000492095947, 1.7297999858856201, 1.7187999486923218, 1.7131999731063843, 1.701799988746643, 1.600000023841858, 1.5713000297546387, 1.517699956893921, 1.4967000484466553, 1.496000051498413, 1.478600025177002, 1.4739999771118164, 1.4531999826431274, 1.4508999586105347, 1.4392999410629272, 1.4019999504089355, 1.3667999505996704, 1.361899971961975, 1.3559000492095947, 1.332200050354004, 1.3238999843597412, 1.3214999437332153, 1.2766000032424927, 1.1837999820709229, 1.0714999437332153, 0.7609999775886536, 0.7143999934196472, 0.9465000033378601, 0.7031000256538391, 0.4616999924182892, 0.47369998693466187, 0.004399999976158142, 0.4291999936103821, 0.36070001125335693, -0.21170000731945038, -0.12489999830722809, -0.17829999327659607, -0.26190000772476196, -0.03519999980926514, 0.4537999927997589, 2.2058000564575195, 2.1242001056671143, 2.0381999015808105, 2.01990008354187, 2.009399890899658, 1.9470000267028809, 1.9316999912261963, 1.910599946975708, 1.9018000364303589, 1.8585000038146973, 1.8557000160217285, 1.82260000705719, 1.8092999458312988, 1.7871999740600586, 1.7818000316619873, 1.705899953842163, 1.6572999954223633, 1.6526000499725342, 1.642799973487854, 1.5865999460220337, 1.5454000234603882, 1.5336999893188477, 1.5334999561309814, 1.4947999715805054, 1.482699990272522, 1.4818999767303467, 1.4632999897003174, 1.4450000524520874, 1.413699984550476, 1.407099962234497, 1.364400029182434, 1.3873000144958496, 1.0602999925613403, 0.9807999730110168, 1.0785000324249268, 0.6937999725341797, 0.6951000094413757, 0.36039999127388, 0.3716000020503998, 1.0404000282287598, 0.41370001435279846, 0.7817999720573425, 0.2973000109195709, -0.17239999771118164, 0.7601000070571899, -0.0406000018119812, 0.01899999938905239]}, \"token.table\": {\"Topic\": [1, 2, 3, 4, 5, 6, 7, 1, 2, 3, 5, 6, 7, 2, 5, 6, 1, 2, 3, 4, 5, 6, 7, 2, 3, 5, 1, 2, 4, 5, 7, 3, 5, 6, 7, 3, 5, 1, 4, 5, 1, 2, 3, 4, 5, 6, 7, 1, 2, 3, 5, 6, 7, 2, 3, 4, 1, 2, 6, 1, 2, 3, 4, 5, 6, 7, 2, 3, 4, 6, 2, 4, 7, 1, 2, 6, 1, 2, 3, 4, 5, 6, 7, 1, 2, 5, 1, 2, 3, 7, 1, 2, 3, 4, 5, 6, 7, 2, 3, 5, 7, 1, 2, 3, 4, 5, 6, 7, 2, 3, 5, 1, 4, 5, 7, 3, 4, 7, 1, 2, 3, 4, 5, 6, 7, 1, 2, 3, 4, 5, 6, 7, 2, 4, 6, 7, 1, 2, 3, 4, 5, 7, 2, 3, 4, 7, 1, 2, 3, 4, 5, 6, 7, 2, 3, 4, 5, 6, 1, 6, 1, 2, 3, 2, 3, 2, 3, 5, 6, 7, 1, 2, 4, 5, 6, 5, 6, 7, 1, 2, 4, 6, 7, 1, 2, 3, 4, 6, 7, 1, 2, 3, 4, 5, 6, 7, 3, 4, 5, 7, 1, 2, 4, 5, 6, 1, 2, 3, 4, 7, 1, 2, 3, 4, 6, 7, 3, 6, 7, 2, 3, 7, 3, 7, 1, 2, 3, 4, 5, 6, 7, 1, 3, 4, 7, 1, 2, 3, 4, 5, 6, 7, 1, 2, 3, 4, 5, 6, 7, 1, 2, 3, 4, 5, 6, 7, 1, 2, 3, 4, 5, 6, 1, 7, 3, 6, 7, 1, 2, 3, 4, 5, 6, 7, 2, 3, 4, 5, 7, 1, 2, 3, 4, 5, 6, 7, 1, 2, 2, 3, 4, 5, 2, 3, 4, 5, 7, 1, 2, 4, 5, 1, 2, 6, 1, 3, 4, 1, 2, 3, 4, 5, 6, 1, 2, 3, 4, 7, 1, 2, 4, 5, 6, 7, 1, 2, 4, 5, 6, 1, 2, 3, 4, 5, 6, 7, 1, 2, 3, 4, 5, 6, 7, 1, 2, 3, 4, 6, 7, 1, 2, 5, 6, 7, 1, 3, 1, 7, 2, 3, 4, 5, 6, 7, 1, 3, 4, 5, 6, 2, 4, 6, 1, 2, 3, 3, 5, 6, 7, 2, 3, 4, 5, 6, 7, 1, 2, 3, 4, 5, 6, 7, 1, 2, 5, 6, 7, 4, 5, 7, 3, 7, 2, 3, 4, 1, 2, 3, 4, 6, 7, 1, 2, 3, 4, 5, 7, 1, 3, 4, 1, 2, 3, 4, 5, 6, 1, 2, 6, 1, 2, 3, 4, 6, 7, 2, 3, 4, 1, 2, 3, 4, 5, 6, 7, 1, 2, 3, 4, 5, 6, 1, 4, 1, 2, 3, 4, 5, 6, 7, 1, 2, 4, 5, 1, 3, 4, 5, 6, 7, 1, 2, 3, 4, 5, 6, 7, 2, 4, 5, 6, 1, 2, 3, 4, 5, 6, 7, 1, 3, 4, 5, 6, 7, 1, 2, 3, 4, 5, 7, 1, 2, 3, 4, 6, 7, 1, 2, 4, 5, 6, 7, 3, 4, 5, 3, 6, 2, 3, 4, 5, 6, 7, 2, 3, 6, 1, 2, 4, 6, 7, 2, 3, 4, 7, 1, 2, 3, 4, 5, 6, 7, 1, 2, 3, 4, 5, 7, 1, 2, 3, 4, 6, 7, 1, 2, 3, 5, 7, 1, 7, 1, 2, 3, 4, 5, 6, 7, 2, 4, 5, 6, 7, 2, 3, 4, 5, 7, 1, 3, 6, 7, 1, 2, 3, 4, 5, 6, 7, 1, 2, 3, 4, 7, 1, 2, 3, 4, 7, 4, 5, 1, 2, 3, 4, 5, 7, 1, 2, 3, 4, 6, 7, 1, 2, 5, 6, 7, 2, 3, 5, 6, 7, 1, 2, 3, 4, 5, 6, 7, 1, 2, 3, 4, 5, 6, 7, 1, 2, 3, 4, 6, 7, 1, 2, 3, 4, 5, 6, 7, 1, 2, 3, 5, 2, 4, 7, 1, 2, 3, 4, 6, 7, 1, 2, 3, 1, 2, 3, 4, 5, 6, 7, 2, 4, 5, 2, 3, 4, 5, 1, 4, 6, 7, 1, 2, 3, 4, 5, 7, 1, 2, 3, 4, 5, 6, 7, 2, 3, 6, 7, 1, 4, 6, 7, 1, 2, 4, 5, 6, 1, 2, 3, 4, 5, 6, 7, 1, 2, 4, 6, 1, 2, 3, 4, 5, 6, 7, 1, 2, 3, 4, 5, 6, 7, 2, 6, 2, 3, 4, 1, 2, 3, 4, 6, 2, 3, 4, 5, 7, 1, 2, 3, 5, 6, 2, 3, 6, 7, 2, 3, 4, 5, 7, 1, 2, 3, 4, 5, 6, 7, 1, 2, 3, 4, 5, 6, 1, 2, 3, 4, 5, 6, 7, 1, 2, 3, 4, 5, 6, 7, 2, 3, 4, 6, 1, 2, 3, 4, 5, 6, 7, 3, 5, 2, 4, 5, 6, 7, 1, 4, 6, 1, 2, 3, 4, 5, 6, 7, 1, 3, 4, 5, 2, 3, 4, 3, 6, 7, 2, 3, 5, 6, 7, 2, 4, 5, 5, 6, 7, 1, 2, 3, 4, 7, 2, 6, 2, 4, 5, 6, 7, 1, 3, 5, 7, 2, 3, 4, 1, 2, 3, 4, 5, 6, 7, 2, 3, 4, 5, 7, 1, 2, 3, 4, 6, 1, 2, 6, 1, 2, 3, 5, 6, 7, 1, 2, 3, 4, 5, 6, 7, 4, 5, 6, 7, 1, 2, 3, 4, 5, 6, 7, 1, 2, 3, 4, 5, 6, 7, 1, 2, 3, 4, 5, 6, 7, 1, 2, 4, 5, 6, 7, 2, 7, 3, 5, 1, 2, 3, 4, 6, 7, 2, 3, 4, 5, 7, 1, 2, 3, 4, 5, 6, 7, 1, 2, 3, 5, 6, 1, 2, 3, 4, 5, 6, 7, 1, 2, 3, 4, 5, 7, 1, 2, 6, 1, 2, 3, 4, 5, 6, 7, 1, 2, 3, 6, 1, 2, 3, 4, 5, 7, 2, 3, 4, 5, 6, 1, 2, 3, 4, 5, 6, 7, 1, 7, 1, 2, 3, 4, 7, 3, 7, 1, 4, 6, 7, 2, 4, 6, 7, 1, 2, 3, 4, 5, 6, 7, 1, 2, 3, 5, 6, 7, 3, 4, 6, 1, 2, 4, 5, 6, 7, 1, 2, 4, 5, 6, 7, 1, 2, 3, 4, 5, 6, 7, 1, 3, 6, 1, 2, 3, 4, 5, 6, 7, 1, 2, 3, 6, 7, 1, 2, 4, 5, 6, 7, 2, 7, 1, 3, 6, 7, 2, 3, 4, 1, 2, 3, 4, 5, 6, 7, 4, 5, 6, 1, 2, 1, 2, 3, 6, 7, 1, 3, 5, 7, 3, 4, 6, 7, 1, 2, 3, 4, 5, 6, 7, 1, 2, 5, 7, 1, 2, 3, 6, 7, 1, 3, 4, 7, 1, 2, 4, 6, 1, 2, 6, 7, 1, 3, 4, 5, 6, 1, 1, 2, 3, 4, 5, 6, 7, 1, 2, 3, 4, 5, 6, 7, 1, 2, 3, 4, 5, 6, 7, 1, 4, 6, 3, 4, 6, 4, 5, 6, 1, 3, 5, 1, 2, 3, 4, 5, 7, 1, 2, 3, 4, 7, 2, 3, 5, 6, 7, 1, 2, 3, 4, 5, 7, 1, 2, 3, 4, 6, 7, 1, 2, 3, 4, 5, 6, 1, 2, 3, 5, 6, 7, 1, 2, 3, 4, 6, 7, 2, 3, 4, 5, 6, 7, 1, 2, 3, 4, 1, 2, 3, 4, 5, 6, 7, 1, 2, 3, 4, 7, 1, 2, 3, 4, 2, 3, 4, 5, 7, 1, 2, 3, 4, 5, 6, 7, 1, 2, 3, 4, 5, 6, 7, 1, 2, 6, 1, 2, 3, 4, 6, 7, 2, 4, 5, 6, 7, 1, 2, 3, 5, 6, 7, 1, 2, 3, 5, 7, 2, 3, 4, 6, 1, 2, 3, 4, 7, 1, 2, 3, 5, 6, 7, 3, 5, 7, 2, 3, 5, 7, 1, 2, 3, 4, 5, 6, 7, 3, 4, 5, 1, 2, 4, 5, 6, 7], \"Freq\": [0.45275574922561646, 0.04703955724835396, 0.08819916844367981, 0.26459750533103943, 0.08819916844367981, 0.005879944656044245, 0.052919503301382065, 0.038108941167593, 0.6287975311279297, 0.0190544705837965, 0.20959918200969696, 0.038108941167593, 0.076217882335186, 0.13750037550926208, 0.11000029742717743, 0.7425020337104797, 0.6502196192741394, 0.0706760436296463, 0.014135208912193775, 0.0565408356487751, 0.02827041782438755, 0.1413520872592926, 0.0424056239426136, 0.029954124242067337, 0.26958712935447693, 0.658990740776062, 0.10945791006088257, 0.03648597002029419, 0.03648597002029419, 0.07297194004058838, 0.7297194004058838, 0.10755825787782669, 0.4660857915878296, 0.3585275411605835, 0.03585275262594223, 0.8064113855361938, 0.16800236701965332, 0.8303887248039246, 0.12775211036205292, 0.03193802759051323, 0.8918882012367249, 0.0489024855196476, 0.004657379351556301, 0.0023286896757781506, 0.0023286896757781506, 0.03725903481245041, 0.013972138985991478, 0.2758496403694153, 0.1067805141210556, 0.06228863075375557, 0.1601707637310028, 0.186865895986557, 0.20466265082359314, 0.9236847758293152, 0.06597748398780823, 0.02199249342083931, 0.9486162662506104, 0.019359515979886055, 0.019359515979886055, 0.0032996623776853085, 0.2936699390411377, 0.19138041138648987, 0.07259257137775421, 0.1583837866783142, 0.0857912227511406, 0.19138041138648987, 0.06113666668534279, 0.7947766780853271, 0.06113666668534279, 0.06113666668534279, 0.0966213271021843, 0.2898639738559723, 0.5797279477119446, 0.8850971460342407, 0.04658406227827072, 0.04658406227827072, 0.8194186687469482, 0.018623150885105133, 0.037246301770210266, 0.018623150885105133, 0.018623150885105133, 0.0558694526553154, 0.018623150885105133, 0.902382493019104, 0.04101738706231117, 0.04101738706231117, 0.04421068727970123, 0.6631603240966797, 0.08842137455940247, 0.22105343639850616, 0.2150718718767166, 0.00827199500054121, 0.01654399000108242, 0.06617596000432968, 0.6369435787200928, 0.04963196814060211, 0.00827199500054121, 0.1205064207315445, 0.1205064207315445, 0.1205064207315445, 0.6025320887565613, 0.020401522517204285, 0.20401522517204285, 0.19721470773220062, 0.12920963764190674, 0.027202028781175613, 0.0476035512983799, 0.37402790784835815, 0.04230022057890892, 0.2115010917186737, 0.7191037535667419, 0.8458900451660156, 0.044520530849695206, 0.044520530849695206, 0.044520530849695206, 0.6068781614303589, 0.24275127053260803, 0.06068781763315201, 0.14708231389522552, 0.03946110978722572, 0.11838333308696747, 0.405373215675354, 0.1829560548067093, 0.07533484697341919, 0.03228636458516121, 0.07651138305664062, 0.366449236869812, 0.10872669517993927, 0.03221531957387924, 0.0402691476047039, 0.22953413426876068, 0.1449689269065857, 0.07263069599866867, 0.09684092551469803, 0.07263069599866867, 0.7263069152832031, 0.021480530500411987, 0.1718442440032959, 0.10740265995264053, 0.1503637135028839, 0.5155327320098877, 0.042961061000823975, 0.048394251614809036, 0.048394251614809036, 0.24197126924991608, 0.6291252970695496, 0.018260017037391663, 0.07825721800327301, 0.211294487118721, 0.4904118776321411, 0.05738862603902817, 0.005217147991061211, 0.13825441896915436, 0.14260342717170715, 0.3055787980556488, 0.040743838995695114, 0.42781031131744385, 0.06111575663089752, 0.9268653988838196, 0.04878238961100578, 0.023571640253067017, 0.8485790491104126, 0.09428656101226807, 0.4423322081565857, 0.5529152750968933, 0.031316861510276794, 0.12526744604110718, 0.12526744604110718, 0.5323866605758667, 0.15658430755138397, 0.3532562255859375, 0.0196253452450037, 0.0196253452450037, 0.0392506904900074, 0.5691350102424622, 0.19198250770568848, 0.33596938848495483, 0.4319606423377991, 0.015289084054529667, 0.9020559191703796, 0.015289084054529667, 0.030578168109059334, 0.030578168109059334, 0.724766194820404, 0.01725633814930916, 0.01725633814930916, 0.06902535259723663, 0.15530703961849213, 0.01725633814930916, 0.4833613932132721, 0.2701137065887451, 0.014216511510312557, 0.07108255475759506, 0.127948597073555, 0.02132476679980755, 0.014216511510312557, 0.09734929352998734, 0.4478067457675934, 0.019469857215881348, 0.42833688855171204, 0.025405803695321083, 0.025405803695321083, 0.43189868330955505, 0.050811607390642166, 0.43189868330955505, 0.020302629098296165, 0.7105920314788818, 0.16242103278636932, 0.10151314735412598, 0.020302629098296165, 0.007304041180759668, 0.051128290593624115, 0.825356662273407, 0.007304041180759668, 0.021912124007940292, 0.08034445345401764, 0.9244305491447449, 0.03081435151398182, 0.03081435151398182, 0.148829847574234, 0.7441492080688477, 0.074414923787117, 0.9554758071899414, 0.01566353812813759, 0.013085581362247467, 0.20936930179595947, 0.026171162724494934, 0.026171162724494934, 0.45799535512924194, 0.13085581362247467, 0.1570269763469696, 0.17216798663139343, 0.02869466319680214, 0.6599772572517395, 0.11477865278720856, 0.33025822043418884, 0.01158800721168518, 0.44034427404403687, 0.00579400360584259, 0.13326208293437958, 0.06952804327011108, 0.00579400360584259, 0.08220680803060532, 0.19181588292121887, 0.0685056746006012, 0.013701134361326694, 0.09590794146060944, 0.5206431150436401, 0.02740226872265339, 0.038741983473300934, 0.025827990844845772, 0.07748396694660187, 0.09039796143770218, 0.3228498697280884, 0.2453659027814865, 0.20662392675876617, 0.11688575148582458, 0.2399233728647232, 0.12918950617313385, 0.25222712755203247, 0.13534139096736908, 0.12303762882947922, 0.9355267286300659, 0.030178280547261238, 0.2784372866153717, 0.05568745732307434, 0.6404057741165161, 0.41808900237083435, 0.4685480296611786, 0.028833724558353424, 0.021625293418765068, 0.007208431139588356, 0.05045901983976364, 0.007208431139588356, 0.39733386039733887, 0.030564142391085625, 0.030564142391085625, 0.48902627825737, 0.06112828478217125, 0.39236733317375183, 0.0067649539560079575, 0.020294861868023872, 0.0067649539560079575, 0.541196346282959, 0.020294861868023872, 0.013529907912015915, 0.9440085887908936, 0.041043851524591446, 0.1912466585636139, 0.5259283185005188, 0.14343500137329102, 0.11952916532754898, 0.30099785327911377, 0.4378150403499603, 0.13681720197200775, 0.06840860098600388, 0.05472688004374504, 0.12506724894046783, 0.1563340574502945, 0.6566030383110046, 0.03126681223511696, 0.23471692204475403, 0.08801884204149246, 0.6161319017410278, 0.04085579887032509, 0.4494137763977051, 0.4494137763977051, 0.06616334617137909, 0.011027224361896515, 0.43557533621788025, 0.22605809569358826, 0.08821779489517212, 0.17643558979034424, 0.05194126442074776, 0.20776505768299103, 0.7012070417404175, 0.02597063221037388, 0.02597063221037388, 0.12628835439682007, 0.5809264779090881, 0.025257673114538193, 0.10103069245815277, 0.07577301561832428, 0.07577301561832428, 0.021663712337613106, 0.17330969870090485, 0.7365661859512329, 0.021663712337613106, 0.04332742467522621, 0.31543299555778503, 0.4248170256614685, 0.015262887813150883, 0.13736598193645477, 0.05850773677229881, 0.033069588243961334, 0.015262887813150883, 0.048015277832746506, 0.4033283293247223, 0.21126721799373627, 0.10563360899686813, 0.1344427764415741, 0.009603055194020271, 0.09603055566549301, 0.07180110365152359, 0.5504751205444336, 0.02393369935452938, 0.02393369935452938, 0.26327070593833923, 0.07180110365152359, 0.27669575810432434, 0.10194054245948792, 0.07281467318534851, 0.42232510447502136, 0.11650347709655762, 0.9246534705162048, 0.034246426075696945, 0.937191903591156, 0.04462818428874016, 0.1232939064502716, 0.0616469532251358, 0.17124153673648834, 0.23288848996162415, 0.0205489844083786, 0.3904307186603546, 0.058720365166664124, 0.058720365166664124, 0.6459240317344666, 0.11744073033332825, 0.11744073033332825, 0.03680354356765747, 0.8464815020561218, 0.07360708713531494, 0.04519065469503403, 0.1807626187801361, 0.7230504751205444, 0.18613700568675995, 0.6381840109825134, 0.15954600274562836, 0.026591001078486443, 0.062177035957574844, 0.020725678652524948, 0.18653111159801483, 0.16580542922019958, 0.4766906201839447, 0.041451357305049896, 0.3058246970176697, 0.11243554949760437, 0.22487109899520874, 0.10793812572956085, 0.04047679528594017, 0.10793812572956085, 0.09894327819347382, 0.019874118268489838, 0.09937058389186859, 0.45710471272468567, 0.019874118268489838, 0.3776082396507263, 0.036338359117507935, 0.2907068729400635, 0.6177521347999573, 0.09329511970281601, 0.8863036036491394, 0.135234072804451, 0.0811404436826706, 0.7573108077049255, 0.12077467888593674, 0.1690845489501953, 0.012077467516064644, 0.49517619609832764, 0.10869721323251724, 0.08454227447509766, 0.2836114764213562, 0.040515925735235214, 0.040515925735235214, 0.040515925735235214, 0.5672229528427124, 0.040515925735235214, 0.1391216367483139, 0.05564865469932556, 0.7790811657905579, 0.6709263324737549, 0.013285670429468155, 0.09964253008365631, 0.1195710301399231, 0.07971402257680893, 0.013285670429468155, 0.03547162562608719, 0.3192446231842041, 0.6384892463684082, 0.07997139543294907, 0.07997139543294907, 0.02665713243186474, 0.1466142237186432, 0.15994279086589813, 0.5064855217933655, 0.5383631587028503, 0.41018146276474, 0.0512726828455925, 0.14191336929798126, 0.3474430739879608, 0.04893564432859421, 0.014680692926049232, 0.15659406781196594, 0.22999753057956696, 0.05872277170419693, 0.05256679654121399, 0.6308015584945679, 0.15770038962364197, 0.017522264271974564, 0.12265585362911224, 0.017522264271974564, 0.0498054139316082, 0.8964974880218506, 0.05638458952307701, 0.27252551913261414, 0.009397431276738644, 0.11276917904615402, 0.4416792690753937, 0.07517945021390915, 0.028192294761538506, 0.03353893756866455, 0.10061681270599365, 0.03353893756866455, 0.8049345016479492, 0.147292822599411, 0.44889241456985474, 0.34368327260017395, 0.00701394397765398, 0.04208366572856903, 0.00701394397765398, 0.025302978232502937, 0.17395798861980438, 0.272007018327713, 0.04428021237254143, 0.26251840591430664, 0.18028372526168823, 0.041117340326309204, 0.6628009080886841, 0.07364454865455627, 0.196385458111763, 0.07364454865455627, 0.17324070632457733, 0.11549379676580429, 0.2804849445819855, 0.09899468719959259, 0.008249557577073574, 0.10724424570798874, 0.20623892545700073, 0.29857149720191956, 0.28058525919914246, 0.0035972471814602613, 0.12950089573860168, 0.03237522393465042, 0.255404531955719, 0.3448440432548523, 0.1400928944349289, 0.4633841812610626, 0.02155275270342827, 0.010776376351714134, 0.010776376351714134, 0.18057966232299805, 0.10834779590368271, 0.46047812700271606, 0.09931880980730057, 0.07223185896873474, 0.0632028803229332, 0.13437089323997498, 0.5168111324310303, 0.05168111249804497, 0.10336222499608994, 0.010336222127079964, 0.16537955403327942, 0.06711433082818985, 0.1342286616563797, 0.77181476354599, 0.4906313419342041, 0.4906313419342041, 0.05463297292590141, 0.7648616433143616, 0.010926594957709312, 0.010926594957709312, 0.1420457363128662, 0.021853189915418625, 0.09100739657878876, 0.2275184839963913, 0.6825554370880127, 0.08045371621847153, 0.42525535821914673, 0.2183743715286255, 0.011493387632071972, 0.2758413255214691, 0.25388917326927185, 0.042314860969781876, 0.1692594438791275, 0.5077783465385437, 0.030106311663985252, 0.007526577915996313, 0.22579734027385712, 0.045159466564655304, 0.5268604755401611, 0.06773920357227325, 0.09784551709890366, 0.18132394552230835, 0.2331307977437973, 0.025903422385454178, 0.07771026343107224, 0.44035816192626953, 0.025903422385454178, 0.6014002561569214, 0.12357538938522339, 0.06590687483549118, 0.10709866881370544, 0.03295343741774559, 0.07414523512125015, 0.1854705661535263, 0.247294083237648, 0.030911760404706, 0.061823520809412, 0.4327646493911743, 0.9460381269454956, 0.020128469914197922, 0.45893537998199463, 0.05006567761301994, 0.11681991070508957, 0.10013135522603989, 0.125164195895195, 0.10847563296556473, 0.05006567761301994, 0.01279880478978157, 0.6015438437461853, 0.07679282873868942, 0.1279880553483963, 0.15358565747737885, 0.5054570436477661, 0.04098300263285637, 0.20491500198841095, 0.04098300263285637, 0.20491500198841095, 0.0635814517736435, 0.0635814517736435, 0.19074437022209167, 0.6358145475387573, 0.7336462736129761, 0.14057892560958862, 0.008786182850599289, 0.0043930914252996445, 0.03075163997709751, 0.0043930914252996445, 0.07468254864215851, 0.06482848525047302, 0.1080474779009819, 0.6266753673553467, 0.08643798530101776, 0.1080474779009819, 0.8547320365905762, 0.0379880890250206, 0.00949702225625515, 0.0189940445125103, 0.0569821372628212, 0.8297878503799438, 0.12446817755699158, 0.0425267331302166, 0.1275801956653595, 0.0425267331302166, 0.0425267331302166, 0.0850534662604332, 0.6379009485244751, 0.06719867885112762, 0.5543891191482544, 0.06719867885112762, 0.18479636311531067, 0.11759769171476364, 0.016799669712781906, 0.1605907678604126, 0.053530253469944, 0.053530253469944, 0.1605907678604126, 0.5888327956199646, 0.02564605139195919, 0.8035762906074524, 0.11113288998603821, 0.008548683486878872, 0.05129210278391838, 0.08758929371833801, 0.05573864281177521, 0.015925327315926552, 0.039813317358493805, 0.047775980085134506, 0.07166396826505661, 0.6688637137413025, 0.03508997708559036, 0.014620823785662651, 0.12281491607427597, 0.01754498854279518, 0.8012211322784424, 0.00292416475713253, 0.00584832951426506, 0.8871915936470032, 0.017061376944184303, 0.017061376944184303, 0.017061376944184303, 0.06824550777673721, 0.017061376944184303, 0.24770359694957733, 0.11958104372024536, 0.35020163655281067, 0.13666404783725739, 0.08541503548622131, 0.04270751774311066, 0.008541502989828587, 0.028583768755197525, 0.05716753751039505, 0.5145078301429749, 0.40017277002334595, 0.5833463072776794, 0.26515740156173706, 0.10606296360492706, 0.02512882649898529, 0.02512882649898529, 0.6282206773757935, 0.02512882649898529, 0.2512882649898529, 0.05025765299797058, 0.25425881147384644, 0.6356470584869385, 0.06356470286846161, 0.012885465286672115, 0.032213665544986725, 0.09664098918437958, 0.006442732643336058, 0.09019825607538223, 0.47676223516464233, 0.2834802567958832, 0.8322739601135254, 0.13141167163848877, 0.04380389302968979, 0.1080908328294754, 0.4864087700843811, 0.1621362566947937, 0.1621362566947937, 0.18222951889038086, 0.6985464692115784, 0.030371587723493576, 0.06074317544698715, 0.08636320382356644, 0.2015141397714615, 0.047979556024074554, 0.15353457629680634, 0.047979556024074554, 0.4701996445655823, 0.36279577016830444, 0.09717743843793869, 0.0647849589586258, 0.2202688604593277, 0.035631727427244186, 0.022674735635519028, 0.1911156326532364, 0.4164922833442688, 0.09255384653806686, 0.04627692326903343, 0.4164922833442688, 0.8665991425514221, 0.05252115800976753, 0.026260579004883766, 0.026260579004883766, 0.6900537610054016, 0.09356661140918732, 0.02339165285229683, 0.035087477415800095, 0.15204574167728424, 0.011802627705037594, 0.37178274989128113, 0.04130919650197029, 0.3363748788833618, 0.15933546423912048, 0.0767170786857605, 0.005901313852518797, 0.8165270090103149, 0.025516469031572342, 0.07654940336942673, 0.07654940336942673, 0.15593481063842773, 0.23138713836669922, 0.03521108627319336, 0.25653791427612305, 0.08048248291015625, 0.1609649658203125, 0.07545232772827148, 0.1247410923242569, 0.05346046760678291, 0.16038140654563904, 0.01782015711069107, 0.39204344153404236, 0.10692093521356583, 0.16038140654563904, 0.31057319045066833, 0.6211463809013367, 0.34333398938179016, 0.5150009989738464, 0.11444466561079025, 0.9579976797103882, 0.03421420231461525, 0.2656804323196411, 0.5313608646392822, 0.10627216845750809, 0.12693533301353455, 0.06346766650676727, 0.2538706660270691, 0.06346766650676727, 0.5077413320541382, 0.0818362683057785, 0.0818362683057785, 0.327345073223114, 0.45009946823120117, 0.04091813415288925, 0.09467589855194092, 0.7574071884155273, 0.04733794927597046, 0.04733794927597046, 0.14624172449111938, 0.4509119987487793, 0.28029665350914, 0.08530767261981964, 0.024373620748519897, 0.06425723433494568, 0.10281157493591309, 0.23132604360580444, 0.34698906540870667, 0.08996012806892395, 0.03855434060096741, 0.12851446866989136, 0.05599009990692139, 0.1306435614824295, 0.48524752259254456, 0.1866336613893509, 0.09331683069467545, 0.03732673078775406, 0.061003413051366806, 0.008714772760868073, 0.026144320145249367, 0.052288640290498734, 0.4967420697212219, 0.2875875234603882, 0.07843295484781265, 0.7770821452140808, 0.058589525520801544, 0.0030836593359708786, 0.0030836593359708786, 0.04933854937553406, 0.09867709875106812, 0.009250978007912636, 0.10698196291923523, 0.1711711436510086, 0.6632881760597229, 0.021396392956376076, 0.12352805584669113, 0.12018945813179016, 0.34053680300712585, 0.22368593513965607, 0.03672455623745918, 0.06343332678079605, 0.09348069131374359, 0.44429299235343933, 0.5468221306800842, 0.026690464466810226, 0.08007139712572098, 0.026690464466810226, 0.8007139563560486, 0.05338092893362045, 0.9597874879837036, 0.01654805988073349, 0.01654805988073349, 0.2729194760322571, 0.06335631012916565, 0.038988497108221054, 0.15595398843288422, 0.20956318080425262, 0.1803217977285385, 0.07797699421644211, 0.04605649784207344, 0.13816949725151062, 0.04605649784207344, 0.736903965473175, 0.30185672640800476, 0.532688319683075, 0.12429393827915192, 0.04943117871880531, 0.889761209487915, 0.04943117871880531, 0.3464335501194, 0.026648733764886856, 0.026648733764886856, 0.15989241003990173, 0.39973101019859314, 0.2799607515335083, 0.5599215030670166, 0.11998318135738373, 0.11669279634952545, 0.7585031390190125, 0.11669279634952545, 0.01420613657683134, 0.6676884293556213, 0.07103068381547928, 0.24150432646274567, 0.01420613657683134, 0.09883448481559753, 0.8400931358337402, 0.27726519107818604, 0.6839208006858826, 0.018484346568584442, 0.018484346568584442, 0.018484346568584442, 0.011389393359422684, 0.17084090411663055, 0.7858681678771973, 0.022778786718845367, 0.2413676381111145, 0.03448109328746796, 0.6896218061447144, 0.012942787259817123, 0.030199836939573288, 0.1251136064529419, 0.017257049679756165, 0.004314262419939041, 0.004314262419939041, 0.802452802658081, 0.23500461876392365, 0.07833487540483475, 0.026111625134944916, 0.23500461876392365, 0.41778600215911865, 0.32522547245025635, 0.3438097834587097, 0.06504509598016739, 0.16725881397724152, 0.09292156249284744, 0.05441566929221153, 0.7618193626403809, 0.1632470041513443, 0.22240376472473145, 0.16680282354354858, 0.009266823530197144, 0.10193505883216858, 0.48187482357025146, 0.009266823530197144, 0.3033820688724518, 0.21285678446292877, 0.15413767099380493, 0.031806185841560364, 0.14435115456581116, 0.1125449687242508, 0.04159270599484444, 0.22871078550815582, 0.5031636953353882, 0.045742157846689224, 0.1829686313867569, 0.3043447434902191, 0.035805266350507736, 0.029837720096111298, 0.07757807523012161, 0.08354561775922775, 0.45950090885162354, 0.005967544391751289, 0.25093814730644226, 0.42203235626220703, 0.04562511667609215, 0.022812558338046074, 0.1939067542552948, 0.011406279169023037, 0.04562511667609215, 0.029687577858567238, 0.05690119042992592, 0.15338581800460815, 0.10143255442380905, 0.5071628093719482, 0.014843788929283619, 0.1385420262813568, 0.17552974820137024, 0.12067670375108719, 0.02194121852517128, 0.5814422965049744, 0.05485304445028305, 0.04388243705034256, 0.8224156498908997, 0.12652547657489777, 0.6109850406646729, 0.32899194955825806, 0.03262883424758911, 0.03262883424758911, 0.19577302038669586, 0.48943254351615906, 0.06525766849517822, 0.19577302038669586, 0.25942113995552063, 0.03706016391515732, 0.6300228238105774, 0.03706016391515732, 0.03706016391515732, 0.18284203112125397, 0.12386073172092438, 0.06487943232059479, 0.011796260252594948, 0.05308317020535469, 0.5072392225265503, 0.05308317020535469, 0.8964781165122986, 0.02598487213253975, 0.03897731006145477, 0.012992436066269875, 0.02598487213253975, 0.00875803641974926, 0.04379018396139145, 0.07006429135799408, 0.7707072496414185, 0.00875803641974926, 0.07006429135799408, 0.04379018396139145, 0.11243324726819992, 0.13117212057113647, 0.487210750579834, 0.13117212057113647, 0.05621662363409996, 0.07495550066232681, 0.955449104309082, 0.017693500965833664, 0.017693500965833664, 0.004553200677037239, 0.004553200677037239, 0.05463840812444687, 0.5099584460258484, 0.1274896115064621, 0.027319204062223434, 0.27774521708488464, 0.047272589057683945, 0.14181776344776154, 0.047272589057683945, 0.7090888619422913, 0.008507945574820042, 0.0510476753115654, 0.7146674394607544, 0.03403178229928017, 0.18717481195926666, 0.008507945574820042, 0.15706175565719604, 0.6282470226287842, 0.08974957466125488, 0.02243739366531372, 0.06731218099594116, 0.11421874910593033, 0.14848437905311584, 0.011421875096857548, 0.39976561069488525, 0.14848437905311584, 0.057109374552965164, 0.13706250488758087, 0.9604446887969971, 0.033118780702352524, 0.7477715611457825, 0.04747755825519562, 0.011869389563798904, 0.16617146134376526, 0.02373877912759781, 0.8812875747680664, 0.05508047342300415, 0.0382661372423172, 0.382661372423172, 0.4209275245666504, 0.1147984191775322, 0.03047800436615944, 0.33525803685188293, 0.18286803364753723, 0.42669206857681274, 0.15207314491271973, 0.5552973747253418, 0.07603657245635986, 0.009216554462909698, 0.03456207737326622, 0.09216554462909698, 0.08064484596252441, 0.8757835030555725, 0.025022385641932487, 0.025022385641932487, 0.025022385641932487, 0.025022385641932487, 0.025022385641932487, 0.3172951638698578, 0.05288252606987953, 0.6345903277397156, 0.1373540163040161, 0.11773201078176498, 0.6475260853767395, 0.05886600539088249, 0.01962200179696083, 0.01962200179696083, 0.08707446604967117, 0.021768616512417793, 0.06530585139989853, 0.1523803174495697, 0.43537235260009766, 0.23945479094982147, 0.015939651057124138, 0.2550344169139862, 0.04250573739409447, 0.14877007901668549, 0.10095112770795822, 0.010626434348523617, 0.42505738139152527, 0.8860006332397461, 0.07088004797697067, 0.035440023988485336, 0.010275616310536861, 0.5857101082801819, 0.010275616310536861, 0.03082684800028801, 0.10275616496801376, 0.1438586264848709, 0.1130317822098732, 0.03487186133861542, 0.8717965483665466, 0.03487186133861542, 0.03487186133861542, 0.03487186133861542, 0.8858577013015747, 0.029044514521956444, 0.007261128630489111, 0.007261128630489111, 0.05808902904391289, 0.007261128630489111, 0.7743162512779236, 0.17868837714195251, 0.8156939148902893, 0.09063266217708588, 0.030210886150598526, 0.06042177230119705, 0.7112734317779541, 0.20322099328041077, 0.05080524832010269, 0.36555367708206177, 0.07238686829805374, 0.003619343275204301, 0.010858030058443546, 0.03619343414902687, 0.5067080855369568, 0.007238686550408602, 0.2504396438598633, 0.6574040651321411, 0.06260991096496582, 0.9324597120285034, 0.04662298411130905, 0.3431870937347412, 0.14627647399902344, 0.061886198818683624, 0.4275773763656616, 0.011252036318182945, 0.04223313555121422, 0.08446627110242844, 0.6334969997406006, 0.2111656665802002, 0.14634504914283752, 0.07317252457141876, 0.03658626228570938, 0.73172527551651, 0.04609398916363716, 0.3595331013202667, 0.17515715956687927, 0.24890753626823425, 0.1014067754149437, 0.009218798018991947, 0.0645315870642662, 0.18829451501369476, 0.11768407374620438, 0.5648835301399231, 0.09414725750684738, 0.11324527114629745, 0.5662263631820679, 0.18874211609363556, 0.03774842247366905, 0.03774842247366905, 0.2525472640991211, 0.15152835845947266, 0.5556039810180664, 0.05050945281982422, 0.7813055515289307, 0.06510879099369049, 0.021702932193875313, 0.10851465910673141, 0.1904381662607193, 0.06347938627004623, 0.1904381662607193, 0.5078350901603699, 0.6307644248008728, 0.23310859501361847, 0.08227362483739853, 0.013712270185351372, 0.027424540370702744, 0.905461311340332, 0.25427669286727905, 0.16951778531074524, 0.028252964839339256, 0.08072275668382645, 0.09686730802059174, 0.24216826260089874, 0.12915641069412231, 0.1423468440771103, 0.2711368501186371, 0.3118073642253876, 0.04744894802570343, 0.07456263154745102, 0.06778421252965927, 0.08811947703361511, 0.13536839187145233, 0.13536839187145233, 0.20756486058235168, 0.06317191570997238, 0.09927015006542206, 0.33090049028396606, 0.027073677629232407, 0.8447844386100769, 0.04446234181523323, 0.08892468363046646, 0.047485996037721634, 0.8547479510307312, 0.047485996037721634, 0.03799135982990265, 0.1519654393196106, 0.7978186011314392, 0.11552438139915466, 0.693146288394928, 0.11552438139915466, 0.020702771842479706, 0.06210831552743912, 0.020702771842479706, 0.24843326210975647, 0.08281108736991882, 0.5796775817871094, 0.06481213867664337, 0.6643244624137878, 0.24304552376270294, 0.016203034669160843, 0.016203034669160843, 0.06746767461299896, 0.06746767461299896, 0.6409429311752319, 0.03373383730649948, 0.2024030238389969, 0.4079103171825409, 0.22900228202342987, 0.18606434762477875, 0.11450114101171494, 0.0071563213132321835, 0.05009424686431885, 0.2870999872684479, 0.11484000086784363, 0.057420000433921814, 0.08613000065088272, 0.430649995803833, 0.057420000433921814, 0.13190960884094238, 0.032977402210235596, 0.02198493480682373, 0.7035179138183594, 0.08793973922729492, 0.02198493480682373, 0.3005068004131317, 0.0772731751203537, 0.008585908450186253, 0.1545463502407074, 0.40353769063949585, 0.051515452563762665, 0.06238942965865135, 0.04679207131266594, 0.5771021842956543, 0.2651550769805908, 0.031194714829325676, 0.015597357414662838, 0.036643095314502716, 0.2198585867881775, 0.5862895250320435, 0.036643095314502716, 0.07328619062900543, 0.05496464669704437, 0.09973076730966568, 0.6553736329078674, 0.0712362602353096, 0.17096702754497528, 0.40971657633781433, 0.07821862399578094, 0.05959513783454895, 0.007449392229318619, 0.05587044358253479, 0.36874493956565857, 0.018623480573296547, 0.3444870412349701, 0.5413367748260498, 0.01640414446592331, 0.01640414446592331, 0.08202072978019714, 0.10699129849672318, 0.5884521007537842, 0.16048693656921387, 0.10699129849672318, 0.5123233795166016, 0.018974939361214638, 0.341548889875412, 0.037949878722429276, 0.07589975744485855, 0.15539024770259857, 0.13121843338012695, 0.22445257008075714, 0.2071869820356369, 0.16920270025730133, 0.09323414415121078, 0.01726558245718479, 0.04249516874551773, 0.030353691428899765, 0.06070738285779953, 0.0364244282245636, 0.1456977128982544, 0.6374275088310242, 0.048565905541181564, 0.9263105988502502, 0.037052422761917114, 0.037052422761917114, 0.017469681799411774, 0.0698787271976471, 0.5939691662788391, 0.0698787271976471, 0.15722712874412537, 0.10481809079647064, 0.023304952308535576, 0.6525386571884155, 0.04660990461707115, 0.023304952308535576, 0.2563544809818268, 0.3000975251197815, 0.00750243803486228, 0.3826243281364441, 0.00750243803486228, 0.18005850911140442, 0.11253656446933746, 0.28802987933158875, 0.5252309441566467, 0.05082879960536957, 0.10165759921073914, 0.03388586640357971, 0.11854925006628036, 0.5927462577819824, 0.03951641544699669, 0.23709850013256073, 0.08875762671232224, 0.697381317615509, 0.08875762671232224, 0.06339830160140991, 0.05071864277124405, 0.14874067902565002, 0.12395057082176208, 0.07437033951282501, 0.024790113791823387, 0.1983209103345871, 0.4462220370769501, 0.7498106956481934, 0.032600466161966324, 0.19560280442237854, 0.10126204788684845, 0.050631023943424225, 0.5569412708282471, 0.2531551122665405, 0.017337152734398842, 0.09824386239051819, 0.6819279789924622, 0.034674305468797684, 0.08957528322935104, 0.026005728170275688, 0.052011456340551376, 0.13180409371852875, 0.04393469914793968, 0.7908245921134949, 0.19158852100372314, 0.14901329576969147, 0.042575228959321976, 0.021287614479660988, 0.4896151125431061, 0.08515045791864395], \"Term\": [\"abl\", \"abl\", \"abl\", \"abl\", \"abl\", \"abl\", \"abl\", \"account\", \"account\", \"account\", \"account\", \"account\", \"account\", \"activ\", \"activ\", \"activ\", \"addit\", \"addit\", \"addit\", \"addit\", \"addit\", \"addit\", \"addit\", \"adult\", \"adult\", \"adult\", \"advertis\", \"advertis\", \"advertis\", \"advertis\", \"advertis\", \"afford\", \"afford\", \"afford\", \"afford\", \"age\", \"age\", \"alarm\", \"alarm\", \"alarm\", \"alexa\", \"alexa\", \"alexa\", \"alexa\", \"alexa\", \"alexa\", \"alexa\", \"amaz\", \"amaz\", \"amaz\", \"amaz\", \"amaz\", \"amaz\", \"android\", \"android\", \"android\", \"answer\", \"answer\", \"answer\", \"app\", \"app\", \"app\", \"app\", \"app\", \"app\", \"app\", \"appropri\", \"appropri\", \"appropri\", \"appropri\", \"area\", \"area\", \"area\", \"arlo\", \"arlo\", \"arlo\", \"ask\", \"ask\", \"ask\", \"ask\", \"ask\", \"ask\", \"ask\", \"autom\", \"autom\", \"autom\", \"automat\", \"automat\", \"automat\", \"automat\", \"awesom\", \"awesom\", \"awesom\", \"awesom\", \"awesom\", \"awesom\", \"awesom\", \"backlight\", \"backlight\", \"backlight\", \"backlight\", \"batteri\", \"batteri\", \"batteri\", \"batteri\", \"batteri\", \"batteri\", \"batteri\", \"beat\", \"beat\", \"beat\", \"bedroom\", \"bedroom\", \"bedroom\", \"bedroom\", \"beginn\", \"beginn\", \"beginn\", \"best\", \"best\", \"best\", \"best\", \"best\", \"best\", \"best\", \"better\", \"better\", \"better\", \"better\", \"better\", \"better\", \"better\", \"birthday\", \"birthday\", \"birthday\", \"birthday\", \"black\", \"black\", \"black\", \"black\", \"black\", \"black\", \"blue\", \"blue\", \"blue\", \"blue\", \"book\", \"book\", \"book\", \"book\", \"book\", \"book\", \"book\", \"break\", \"break\", \"break\", \"break\", \"break\", \"brief\", \"brief\", \"bright\", \"bright\", \"bright\", \"bring\", \"bring\", \"brows\", \"brows\", \"brows\", \"brows\", \"brows\", \"bulb\", \"bulb\", \"bulb\", \"bulb\", \"bulb\", \"busi\", \"busi\", \"busi\", \"button\", \"button\", \"button\", \"button\", \"button\", \"call\", \"call\", \"call\", \"call\", \"call\", \"call\", \"camera\", \"camera\", \"camera\", \"camera\", \"camera\", \"camera\", \"camera\", \"card\", \"card\", \"card\", \"card\", \"carri\", \"carri\", \"carri\", \"carri\", \"carri\", \"chang\", \"chang\", \"chang\", \"chang\", \"chang\", \"charg\", \"charg\", \"charg\", \"charg\", \"charg\", \"charg\", \"charger\", \"charger\", \"charger\", \"cheaper\", \"cheaper\", \"cheaper\", \"child\", \"child\", \"children\", \"children\", \"children\", \"children\", \"children\", \"children\", \"children\", \"choic\", \"choic\", \"choic\", \"choic\", \"christma\", \"christma\", \"christma\", \"christma\", \"christma\", \"christma\", \"christma\", \"clear\", \"clear\", \"clear\", \"clear\", \"clear\", \"clear\", \"clear\", \"color\", \"color\", \"color\", \"color\", \"color\", \"color\", \"color\", \"come\", \"come\", \"come\", \"come\", \"come\", \"come\", \"command\", \"command\", \"complaint\", \"complaint\", \"complaint\", \"connect\", \"connect\", \"connect\", \"connect\", \"connect\", \"connect\", \"connect\", \"content\", \"content\", \"content\", \"content\", \"content\", \"control\", \"control\", \"control\", \"control\", \"control\", \"control\", \"control\", \"cook\", \"cook\", \"cost\", \"cost\", \"cost\", \"cost\", \"cover\", \"cover\", \"cover\", \"cover\", \"cover\", \"custom\", \"custom\", \"custom\", \"custom\", \"daili\", \"daili\", \"daili\", \"dark\", \"dark\", \"dark\", \"daughter\", \"daughter\", \"daughter\", \"daughter\", \"daughter\", \"daughter\", \"day\", \"day\", \"day\", \"day\", \"day\", \"decent\", \"decent\", \"decent\", \"decent\", \"decent\", \"decent\", \"decid\", \"decid\", \"decid\", \"decid\", \"decid\", \"devic\", \"devic\", \"devic\", \"devic\", \"devic\", \"devic\", \"devic\", \"differ\", \"differ\", \"differ\", \"differ\", \"differ\", \"differ\", \"differ\", \"disappoint\", \"disappoint\", \"disappoint\", \"disappoint\", \"disappoint\", \"disappoint\", \"display\", \"display\", \"display\", \"display\", \"display\", \"door\", \"door\", \"doorbel\", \"doorbel\", \"download\", \"download\", \"download\", \"download\", \"download\", \"download\", \"drawback\", \"drawback\", \"drawback\", \"drawback\", \"drawback\", \"ebook\", \"ebook\", \"ebook\", \"edit\", \"edit\", \"edit\", \"educ\", \"educ\", \"educ\", \"educ\", \"email\", \"email\", \"email\", \"email\", \"email\", \"email\", \"enjoy\", \"enjoy\", \"enjoy\", \"enjoy\", \"enjoy\", \"enjoy\", \"enjoy\", \"entertain\", \"entertain\", \"entertain\", \"entertain\", \"entertain\", \"eread\", \"eread\", \"eread\", \"everyday\", \"everyday\", \"exact\", \"exact\", \"exact\", \"excel\", \"excel\", \"excel\", \"excel\", \"excel\", \"excel\", \"expand\", \"expand\", \"expand\", \"expand\", \"expand\", \"expand\", \"experi\", \"experi\", \"experi\", \"famili\", \"famili\", \"famili\", \"famili\", \"famili\", \"famili\", \"fantast\", \"fantast\", \"fantast\", \"fast\", \"fast\", \"fast\", \"fast\", \"fast\", \"fast\", \"faster\", \"faster\", \"faster\", \"featur\", \"featur\", \"featur\", \"featur\", \"featur\", \"featur\", \"featur\", \"feel\", \"feel\", \"feel\", \"feel\", \"feel\", \"feel\", \"final\", \"final\", \"free\", \"free\", \"free\", \"free\", \"free\", \"free\", \"free\", \"friday\", \"friday\", \"friday\", \"friday\", \"friend\", \"friend\", \"friend\", \"friend\", \"friend\", \"friend\", \"game\", \"game\", \"game\", \"game\", \"game\", \"game\", \"game\", \"generat\", \"generat\", \"generat\", \"generat\", \"get\", \"get\", \"get\", \"get\", \"get\", \"get\", \"get\", \"gift\", \"gift\", \"gift\", \"gift\", \"gift\", \"gift\", \"give\", \"give\", \"give\", \"give\", \"give\", \"give\", \"go\", \"go\", \"go\", \"go\", \"go\", \"go\", \"googl\", \"googl\", \"googl\", \"googl\", \"googl\", \"googl\", \"grand\", \"grand\", \"grand\", \"grandkid\", \"grandkid\", \"grandson\", \"grandson\", \"grandson\", \"grandson\", \"grandson\", \"grandson\", \"graphic\", \"graphic\", \"graphic\", \"hand\", \"hand\", \"hand\", \"hand\", \"hand\", \"handl\", \"handl\", \"handl\", \"handl\", \"happi\", \"happi\", \"happi\", \"happi\", \"happi\", \"happi\", \"happi\", \"hard\", \"hard\", \"hard\", \"hard\", \"hard\", \"hard\", \"have\", \"have\", \"have\", \"have\", \"have\", \"have\", \"haven\", \"haven\", \"haven\", \"haven\", \"haven\", \"hear\", \"hear\", \"help\", \"help\", \"help\", \"help\", \"help\", \"help\", \"help\", \"high\", \"high\", \"high\", \"high\", \"high\", \"hold\", \"hold\", \"hold\", \"hold\", \"hold\", \"holiday\", \"holiday\", \"holiday\", \"holiday\", \"home\", \"home\", \"home\", \"home\", \"home\", \"home\", \"home\", \"hour\", \"hour\", \"hour\", \"hour\", \"hour\", \"hous\", \"hous\", \"hous\", \"hous\", \"hous\", \"inch\", \"inch\", \"inexpens\", \"inexpens\", \"inexpens\", \"inexpens\", \"inexpens\", \"inexpens\", \"instal\", \"instal\", \"instal\", \"instal\", \"instal\", \"instal\", \"integr\", \"integr\", \"integr\", \"integr\", \"integr\", \"ipad\", \"ipad\", \"ipad\", \"ipad\", \"ipad\", \"item\", \"item\", \"item\", \"item\", \"item\", \"item\", \"item\", \"kid\", \"kid\", \"kid\", \"kid\", \"kid\", \"kid\", \"kid\", \"kitchen\", \"kitchen\", \"kitchen\", \"kitchen\", \"kitchen\", \"kitchen\", \"know\", \"know\", \"know\", \"know\", \"know\", \"know\", \"know\", \"laptop\", \"laptop\", \"laptop\", \"laptop\", \"larg\", \"larg\", \"larg\", \"last\", \"last\", \"last\", \"last\", \"last\", \"last\", \"latest\", \"latest\", \"latest\", \"learn\", \"learn\", \"learn\", \"learn\", \"learn\", \"learn\", \"learn\", \"leav\", \"leav\", \"leav\", \"level\", \"level\", \"level\", \"level\", \"librari\", \"librari\", \"librari\", \"librari\", \"life\", \"life\", \"life\", \"life\", \"life\", \"life\", \"light\", \"light\", \"light\", \"light\", \"light\", \"light\", \"light\", \"lightweight\", \"lightweight\", \"lightweight\", \"lightweight\", \"list\", \"list\", \"list\", \"list\", \"listen\", \"listen\", \"listen\", \"listen\", \"listen\", \"littl\", \"littl\", \"littl\", \"littl\", \"littl\", \"littl\", \"littl\", \"live\", \"live\", \"live\", \"live\", \"look\", \"look\", \"look\", \"look\", \"look\", \"look\", \"look\", \"lot\", \"lot\", \"lot\", \"lot\", \"lot\", \"lot\", \"lot\", \"loud\", \"loud\", \"lower\", \"lower\", \"lower\", \"lyric\", \"lyric\", \"market\", \"market\", \"market\", \"memori\", \"memori\", \"memori\", \"memori\", \"memori\", \"mini\", \"mini\", \"mini\", \"mini\", \"mini\", \"mode\", \"mode\", \"mode\", \"mode\", \"model\", \"model\", \"model\", \"model\", \"model\", \"money\", \"money\", \"money\", \"money\", \"money\", \"money\", \"money\", \"month\", \"month\", \"month\", \"month\", \"month\", \"month\", \"movi\", \"movi\", \"movi\", \"movi\", \"movi\", \"movi\", \"movi\", \"music\", \"music\", \"music\", \"music\", \"music\", \"music\", \"music\", \"navig\", \"navig\", \"navig\", \"navig\", \"need\", \"need\", \"need\", \"need\", \"need\", \"need\", \"need\", \"nephew\", \"nephew\", \"netflix\", \"netflix\", \"netflix\", \"netflix\", \"netflix\", \"news\", \"news\", \"news\", \"nice\", \"nice\", \"nice\", \"nice\", \"nice\", \"nice\", \"nice\", \"niec\", \"niec\", \"niec\", \"niec\", \"older\", \"older\", \"older\", \"one\", \"one\", \"one\", \"oper\", \"oper\", \"oper\", \"oper\", \"oper\", \"own\", \"own\", \"own\", \"packag\", \"packag\", \"packag\", \"page\", \"page\", \"page\", \"page\", \"page\", \"pair\", \"pair\", \"paperwhit\", \"paperwhit\", \"paperwhit\", \"paperwhit\", \"paperwhit\", \"parent\", \"parent\", \"parent\", \"parent\", \"peopl\", \"peopl\", \"peopl\", \"perfect\", \"perfect\", \"perfect\", \"perfect\", \"perfect\", \"perfect\", \"perfect\", \"perform\", \"perform\", \"perform\", \"perform\", \"perform\", \"phone\", \"phone\", \"phone\", \"phone\", \"phone\", \"photo\", \"photo\", \"photo\", \"pictur\", \"pictur\", \"pictur\", \"pictur\", \"pictur\", \"pictur\", \"play\", \"play\", \"play\", \"play\", \"play\", \"play\", \"play\", \"plenti\", \"plenti\", \"plenti\", \"plenti\", \"plus\", \"plus\", \"plus\", \"plus\", \"plus\", \"plus\", \"plus\", \"pretti\", \"pretti\", \"pretti\", \"pretti\", \"pretti\", \"pretti\", \"pretti\", \"price\", \"price\", \"price\", \"price\", \"price\", \"price\", \"price\", \"prime\", \"prime\", \"prime\", \"prime\", \"prime\", \"prime\", \"processor\", \"processor\", \"profil\", \"profil\", \"program\", \"program\", \"program\", \"program\", \"program\", \"program\", \"purs\", \"purs\", \"purs\", \"purs\", \"purs\", \"qualiti\", \"qualiti\", \"qualiti\", \"qualiti\", \"qualiti\", \"qualiti\", \"qualiti\", \"question\", \"question\", \"question\", \"question\", \"question\", \"reader\", \"reader\", \"reader\", \"reader\", \"reader\", \"reader\", \"reader\", \"reason\", \"reason\", \"reason\", \"reason\", \"reason\", \"reason\", \"recip\", \"recip\", \"recip\", \"recommend\", \"recommend\", \"recommend\", \"recommend\", \"recommend\", \"recommend\", \"recommend\", \"relat\", \"relat\", \"relat\", \"relat\", \"replac\", \"replac\", \"replac\", \"replac\", \"replac\", \"replac\", \"return\", \"return\", \"return\", \"return\", \"return\", \"right\", \"right\", \"right\", \"right\", \"right\", \"right\", \"right\", \"ring\", \"ring\", \"room\", \"room\", \"room\", \"room\", \"room\", \"safe\", \"safe\", \"satisfi\", \"satisfi\", \"satisfi\", \"satisfi\", \"school\", \"school\", \"school\", \"school\", \"screen\", \"screen\", \"screen\", \"screen\", \"screen\", \"screen\", \"screen\", \"secur\", \"secur\", \"secur\", \"secur\", \"secur\", \"secur\", \"select\", \"select\", \"select\", \"servic\", \"servic\", \"servic\", \"servic\", \"servic\", \"servic\", \"setup\", \"setup\", \"setup\", \"setup\", \"setup\", \"setup\", \"size\", \"size\", \"size\", \"size\", \"size\", \"size\", \"size\", \"skill\", \"skill\", \"skill\", \"small\", \"small\", \"small\", \"small\", \"small\", \"small\", \"small\", \"smaller\", \"smaller\", \"smaller\", \"smaller\", \"smaller\", \"smart\", \"smart\", \"smart\", \"smart\", \"smart\", \"smart\", \"softwar\", \"softwar\", \"song\", \"song\", \"song\", \"song\", \"soon\", \"soon\", \"soon\", \"sound\", \"sound\", \"sound\", \"sound\", \"sound\", \"sound\", \"sound\", \"space\", \"space\", \"space\", \"speak\", \"speak\", \"speaker\", \"speaker\", \"speaker\", \"speaker\", \"speaker\", \"speed\", \"speed\", \"speed\", \"speed\", \"step\", \"step\", \"step\", \"step\", \"store\", \"store\", \"store\", \"store\", \"store\", \"store\", \"store\", \"super\", \"super\", \"super\", \"super\", \"switch\", \"switch\", \"switch\", \"switch\", \"switch\", \"tabl\", \"tabl\", \"tabl\", \"tabl\", \"talk\", \"talk\", \"talk\", \"talk\", \"task\", \"task\", \"task\", \"task\", \"tell\", \"tell\", \"tell\", \"tell\", \"tell\", \"thermostat\", \"thing\", \"thing\", \"thing\", \"thing\", \"thing\", \"thing\", \"thing\", \"think\", \"think\", \"think\", \"think\", \"think\", \"think\", \"think\", \"time\", \"time\", \"time\", \"time\", \"time\", \"time\", \"time\", \"timer\", \"timer\", \"timer\", \"toddler\", \"toddler\", \"toddler\", \"tool\", \"tool\", \"tool\", \"total\", \"total\", \"total\", \"travel\", \"travel\", \"travel\", \"travel\", \"travel\", \"travel\", \"tri\", \"tri\", \"tri\", \"tri\", \"tri\", \"trip\", \"trip\", \"trip\", \"trip\", \"trip\", \"turn\", \"turn\", \"turn\", \"turn\", \"turn\", \"turn\", \"understand\", \"understand\", \"understand\", \"understand\", \"understand\", \"understand\", \"upgrad\", \"upgrad\", \"upgrad\", \"upgrad\", \"upgrad\", \"upgrad\", \"use\", \"use\", \"use\", \"use\", \"use\", \"use\", \"user\", \"user\", \"user\", \"user\", \"user\", \"user\", \"valu\", \"valu\", \"valu\", \"valu\", \"valu\", \"valu\", \"version\", \"version\", \"version\", \"version\", \"video\", \"video\", \"video\", \"video\", \"video\", \"video\", \"video\", \"view\", \"view\", \"view\", \"view\", \"view\", \"volum\", \"volum\", \"volum\", \"volum\", \"voyag\", \"voyag\", \"voyag\", \"voyag\", \"voyag\", \"want\", \"want\", \"want\", \"want\", \"want\", \"want\", \"want\", \"watch\", \"watch\", \"watch\", \"watch\", \"watch\", \"watch\", \"watch\", \"weather\", \"weather\", \"weather\", \"week\", \"week\", \"week\", \"week\", \"week\", \"week\", \"weight\", \"weight\", \"weight\", \"weight\", \"weight\", \"wife\", \"wife\", \"wife\", \"wife\", \"wife\", \"wife\", \"wifi\", \"wifi\", \"wifi\", \"wifi\", \"wifi\", \"wireless\", \"wireless\", \"wireless\", \"wireless\", \"wish\", \"wish\", \"wish\", \"wish\", \"wish\", \"wonder\", \"wonder\", \"wonder\", \"wonder\", \"wonder\", \"wonder\", \"word\", \"word\", \"word\", \"worri\", \"worri\", \"worri\", \"worri\", \"year\", \"year\", \"year\", \"year\", \"year\", \"year\", \"year\", \"young\", \"young\", \"young\", \"youtub\", \"youtub\", \"youtub\", \"youtub\", \"youtub\", \"youtub\"]}, \"R\": 30, \"lambda.step\": 0.01, \"plot.opts\": {\"xlab\": \"PC1\", \"ylab\": \"PC2\"}, \"topic.order\": [3, 7, 5, 4, 2, 1, 6]};\n",
       "\n",
       "function LDAvis_load_lib(url, callback){\n",
       "  var s = document.createElement('script');\n",
       "  s.src = url;\n",
       "  s.async = true;\n",
       "  s.onreadystatechange = s.onload = callback;\n",
       "  s.onerror = function(){console.warn(\"failed to load library \" + url);};\n",
       "  document.getElementsByTagName(\"head\")[0].appendChild(s);\n",
       "}\n",
       "\n",
       "if(typeof(LDAvis) !== \"undefined\"){\n",
       "   // already loaded: just create the visualization\n",
       "   !function(LDAvis){\n",
       "       new LDAvis(\"#\" + \"ldavis_el2247628057387112248589510186\", ldavis_el2247628057387112248589510186_data);\n",
       "   }(LDAvis);\n",
       "}else if(typeof define === \"function\" && define.amd){\n",
       "   // require.js is available: use it to load d3/LDAvis\n",
       "   require.config({paths: {d3: \"https://cdnjs.cloudflare.com/ajax/libs/d3/3.5.5/d3.min\"}});\n",
       "   require([\"d3\"], function(d3){\n",
       "      window.d3 = d3;\n",
       "      LDAvis_load_lib(\"https://cdn.rawgit.com/bmabey/pyLDAvis/files/ldavis.v1.0.0.js\", function(){\n",
       "        new LDAvis(\"#\" + \"ldavis_el2247628057387112248589510186\", ldavis_el2247628057387112248589510186_data);\n",
       "      });\n",
       "    });\n",
       "}else{\n",
       "    // require.js not available: dynamically load d3 & LDAvis\n",
       "    LDAvis_load_lib(\"https://cdnjs.cloudflare.com/ajax/libs/d3/3.5.5/d3.min.js\", function(){\n",
       "         LDAvis_load_lib(\"https://cdn.rawgit.com/bmabey/pyLDAvis/files/ldavis.v1.0.0.js\", function(){\n",
       "                 new LDAvis(\"#\" + \"ldavis_el2247628057387112248589510186\", ldavis_el2247628057387112248589510186_data);\n",
       "            })\n",
       "         });\n",
       "}\n",
       "</script>"
      ],
      "text/plain": [
       "PreparedData(topic_coordinates=              x         y  topics  cluster       Freq\n",
       "topic                                                \n",
       "2     -0.203792 -0.057530       1        1  21.410149\n",
       "6     -0.011270 -0.054711       2        1  16.763704\n",
       "4      0.094890  0.062569       3        1  15.716298\n",
       "3      0.107329 -0.108888       4        1  12.915085\n",
       "1      0.057792  0.144812       5        1  12.278526\n",
       "0     -0.129534  0.075299       6        1  11.325906\n",
       "5      0.084584 -0.061550       7        1   9.590333, topic_info=        Term        Freq       Total Category  logprob  loglift\n",
       "112      kid  341.000000  341.000000  Default  30.0000  30.0000\n",
       "26     alexa  429.000000  429.000000  Default  29.0000  29.0000\n",
       "211  perfect  231.000000  231.000000  Default  28.0000  28.0000\n",
       "44     price  404.000000  404.000000  Default  27.0000  27.0000\n",
       "63     sound  276.000000  276.000000  Default  26.0000  26.0000\n",
       "..       ...         ...         ...      ...      ...      ...\n",
       "36     thing   31.987028  247.761612   Topic7  -4.5170   0.2973\n",
       "8     screen   35.031635  434.001678   Topic7  -4.4261  -0.1724\n",
       "27      amaz   23.047392  112.380058   Topic7  -4.8448   0.7601\n",
       "160     need   27.581743  299.527100   Topic7  -4.6652  -0.0406\n",
       "42     enjoy   21.734156  222.349609   Topic7  -4.9034   0.0190\n",
       "\n",
       "[386 rows x 6 columns], token_table=      Topic      Freq    Term\n",
       "term                         \n",
       "38        1  0.452756     abl\n",
       "38        2  0.047040     abl\n",
       "38        3  0.088199     abl\n",
       "38        4  0.264598     abl\n",
       "38        5  0.088199     abl\n",
       "...     ...       ...     ...\n",
       "147       2  0.149013  youtub\n",
       "147       4  0.042575  youtub\n",
       "147       5  0.021288  youtub\n",
       "147       6  0.489615  youtub\n",
       "147       7  0.085150  youtub\n",
       "\n",
       "[1323 rows x 3 columns], R=30, lambda_step=0.01, plot_opts={'xlab': 'PC1', 'ylab': 'PC2'}, topic_order=[3, 7, 5, 4, 2, 1, 6])"
      ]
     },
     "execution_count": 46,
     "metadata": {},
     "output_type": "execute_result"
    }
   ],
   "source": [
    "# Visualizing the topics\n",
    "pyLDAvis.enable_notebook()\n",
    "vis = pyLDAvis.gensim.prepare(lda_model, bow_corpus, dictionary)\n",
    "vis"
   ]
  },
  {
   "cell_type": "code",
   "execution_count": 32,
   "metadata": {},
   "outputs": [
    {
     "data": {
      "text/html": [
       "<div>\n",
       "<style scoped>\n",
       "    .dataframe tbody tr th:only-of-type {\n",
       "        vertical-align: middle;\n",
       "    }\n",
       "\n",
       "    .dataframe tbody tr th {\n",
       "        vertical-align: top;\n",
       "    }\n",
       "\n",
       "    .dataframe thead th {\n",
       "        text-align: right;\n",
       "    }\n",
       "</style>\n",
       "<table border=\"1\" class=\"dataframe\">\n",
       "  <thead>\n",
       "    <tr style=\"text-align: right;\">\n",
       "      <th></th>\n",
       "      <th>id</th>\n",
       "      <th>dateAdded</th>\n",
       "      <th>dateUpdated</th>\n",
       "      <th>name</th>\n",
       "      <th>asins</th>\n",
       "      <th>brand</th>\n",
       "      <th>categories</th>\n",
       "      <th>primaryCategories</th>\n",
       "      <th>imageURLs</th>\n",
       "      <th>keys</th>\n",
       "      <th>...</th>\n",
       "      <th>reviews.dateSeen</th>\n",
       "      <th>reviews.doRecommend</th>\n",
       "      <th>reviews.id</th>\n",
       "      <th>reviews.numHelpful</th>\n",
       "      <th>reviews.rating</th>\n",
       "      <th>reviews.sourceURLs</th>\n",
       "      <th>reviews.text</th>\n",
       "      <th>reviews.title</th>\n",
       "      <th>reviews.username</th>\n",
       "      <th>sourceURLs</th>\n",
       "    </tr>\n",
       "  </thead>\n",
       "  <tbody>\n",
       "    <tr>\n",
       "      <th>0</th>\n",
       "      <td>AVqVGZNvQMlgsOJE6eUY</td>\n",
       "      <td>2017-03-03T16:56:05Z</td>\n",
       "      <td>2018-10-25T16:36:31Z</td>\n",
       "      <td>Amazon Kindle E-Reader 6\" Wifi (8th Generation...</td>\n",
       "      <td>B00ZV9PXP2</td>\n",
       "      <td>Amazon</td>\n",
       "      <td>Computers,Electronics Features,Tablets,Electro...</td>\n",
       "      <td>Electronics</td>\n",
       "      <td>https://pisces.bbystatic.com/image2/BestBuy_US...</td>\n",
       "      <td>allnewkindleereaderblack6glarefreetouchscreend...</td>\n",
       "      <td>...</td>\n",
       "      <td>2018-05-27T00:00:00Z,2017-09-18T00:00:00Z,2017...</td>\n",
       "      <td>False</td>\n",
       "      <td>NaN</td>\n",
       "      <td>0</td>\n",
       "      <td>3</td>\n",
       "      <td>http://reviews.bestbuy.com/3545/5442403/review...</td>\n",
       "      <td>I thought it would be as big as small paper bu...</td>\n",
       "      <td>Too small</td>\n",
       "      <td>llyyue</td>\n",
       "      <td>https://www.newegg.com/Product/Product.aspx%25...</td>\n",
       "    </tr>\n",
       "    <tr>\n",
       "      <th>1</th>\n",
       "      <td>AVqVGZNvQMlgsOJE6eUY</td>\n",
       "      <td>2017-03-03T16:56:05Z</td>\n",
       "      <td>2018-10-25T16:36:31Z</td>\n",
       "      <td>Amazon Kindle E-Reader 6\" Wifi (8th Generation...</td>\n",
       "      <td>B00ZV9PXP2</td>\n",
       "      <td>Amazon</td>\n",
       "      <td>Computers,Electronics Features,Tablets,Electro...</td>\n",
       "      <td>Electronics</td>\n",
       "      <td>https://pisces.bbystatic.com/image2/BestBuy_US...</td>\n",
       "      <td>allnewkindleereaderblack6glarefreetouchscreend...</td>\n",
       "      <td>...</td>\n",
       "      <td>2018-05-27T00:00:00Z</td>\n",
       "      <td>True</td>\n",
       "      <td>NaN</td>\n",
       "      <td>0</td>\n",
       "      <td>5</td>\n",
       "      <td>https://reviews.bestbuy.com/3545/5442403/revie...</td>\n",
       "      <td>Solid entry level Kindle. Great for kids. Gift...</td>\n",
       "      <td>Solid entry-level Kindle. Great for kids</td>\n",
       "      <td>Johnnyblack</td>\n",
       "      <td>https://www.newegg.com/Product/Product.aspx%25...</td>\n",
       "    </tr>\n",
       "    <tr>\n",
       "      <th>2</th>\n",
       "      <td>AVqVGZNvQMlgsOJE6eUY</td>\n",
       "      <td>2017-03-03T16:56:05Z</td>\n",
       "      <td>2018-10-25T16:36:31Z</td>\n",
       "      <td>Amazon Kindle E-Reader 6\" Wifi (8th Generation...</td>\n",
       "      <td>B00ZV9PXP2</td>\n",
       "      <td>Amazon</td>\n",
       "      <td>Computers,Electronics Features,Tablets,Electro...</td>\n",
       "      <td>Electronics</td>\n",
       "      <td>https://pisces.bbystatic.com/image2/BestBuy_US...</td>\n",
       "      <td>allnewkindleereaderblack6glarefreetouchscreend...</td>\n",
       "      <td>...</td>\n",
       "      <td>2018-05-27T00:00:00Z,2017-07-07T00:00:00Z,2017...</td>\n",
       "      <td>True</td>\n",
       "      <td>NaN</td>\n",
       "      <td>0</td>\n",
       "      <td>5</td>\n",
       "      <td>https://reviews.bestbuy.com/3545/5442403/revie...</td>\n",
       "      <td>Love my kindle, makes reading at night so easy...</td>\n",
       "      <td>feels like a real book</td>\n",
       "      <td>Sean242</td>\n",
       "      <td>https://www.newegg.com/Product/Product.aspx%25...</td>\n",
       "    </tr>\n",
       "    <tr>\n",
       "      <th>3</th>\n",
       "      <td>AVqVGZNvQMlgsOJE6eUY</td>\n",
       "      <td>2017-03-03T16:56:05Z</td>\n",
       "      <td>2018-10-25T16:36:31Z</td>\n",
       "      <td>Amazon Kindle E-Reader 6\" Wifi (8th Generation...</td>\n",
       "      <td>B00ZV9PXP2</td>\n",
       "      <td>Amazon</td>\n",
       "      <td>Computers,Electronics Features,Tablets,Electro...</td>\n",
       "      <td>Electronics</td>\n",
       "      <td>https://pisces.bbystatic.com/image2/BestBuy_US...</td>\n",
       "      <td>allnewkindleereaderblack6glarefreetouchscreend...</td>\n",
       "      <td>...</td>\n",
       "      <td>2018-10-09T00:00:00Z</td>\n",
       "      <td>True</td>\n",
       "      <td>135864424.0</td>\n",
       "      <td>4</td>\n",
       "      <td>4</td>\n",
       "      <td>https://redsky.target.com/groot-domain-api/v1/...</td>\n",
       "      <td>This is a nice bare-bones reading device. Easy...</td>\n",
       "      <td>Easy to use, bare-bones reading device</td>\n",
       "      <td>Nibbler</td>\n",
       "      <td>https://www.newegg.com/Product/Product.aspx%25...</td>\n",
       "    </tr>\n",
       "    <tr>\n",
       "      <th>4</th>\n",
       "      <td>AVqVGZNvQMlgsOJE6eUY</td>\n",
       "      <td>2017-03-03T16:56:05Z</td>\n",
       "      <td>2018-10-25T16:36:31Z</td>\n",
       "      <td>Amazon Kindle E-Reader 6\" Wifi (8th Generation...</td>\n",
       "      <td>B00ZV9PXP2</td>\n",
       "      <td>Amazon</td>\n",
       "      <td>Computers,Electronics Features,Tablets,Electro...</td>\n",
       "      <td>Electronics</td>\n",
       "      <td>https://pisces.bbystatic.com/image2/BestBuy_US...</td>\n",
       "      <td>allnewkindleereaderblack6glarefreetouchscreend...</td>\n",
       "      <td>...</td>\n",
       "      <td>2017-10-10T00:00:00Z</td>\n",
       "      <td>True</td>\n",
       "      <td>NaN</td>\n",
       "      <td>0</td>\n",
       "      <td>5</td>\n",
       "      <td>http://reviews.bestbuy.com/3545/5442403/review...</td>\n",
       "      <td>The sales people are really nice and knowledge...</td>\n",
       "      <td>Great product</td>\n",
       "      <td>richard</td>\n",
       "      <td>https://www.newegg.com/Product/Product.aspx%25...</td>\n",
       "    </tr>\n",
       "  </tbody>\n",
       "</table>\n",
       "<p>5 rows × 24 columns</p>\n",
       "</div>"
      ],
      "text/plain": [
       "                     id             dateAdded           dateUpdated  \\\n",
       "0  AVqVGZNvQMlgsOJE6eUY  2017-03-03T16:56:05Z  2018-10-25T16:36:31Z   \n",
       "1  AVqVGZNvQMlgsOJE6eUY  2017-03-03T16:56:05Z  2018-10-25T16:36:31Z   \n",
       "2  AVqVGZNvQMlgsOJE6eUY  2017-03-03T16:56:05Z  2018-10-25T16:36:31Z   \n",
       "3  AVqVGZNvQMlgsOJE6eUY  2017-03-03T16:56:05Z  2018-10-25T16:36:31Z   \n",
       "4  AVqVGZNvQMlgsOJE6eUY  2017-03-03T16:56:05Z  2018-10-25T16:36:31Z   \n",
       "\n",
       "                                                name       asins   brand  \\\n",
       "0  Amazon Kindle E-Reader 6\" Wifi (8th Generation...  B00ZV9PXP2  Amazon   \n",
       "1  Amazon Kindle E-Reader 6\" Wifi (8th Generation...  B00ZV9PXP2  Amazon   \n",
       "2  Amazon Kindle E-Reader 6\" Wifi (8th Generation...  B00ZV9PXP2  Amazon   \n",
       "3  Amazon Kindle E-Reader 6\" Wifi (8th Generation...  B00ZV9PXP2  Amazon   \n",
       "4  Amazon Kindle E-Reader 6\" Wifi (8th Generation...  B00ZV9PXP2  Amazon   \n",
       "\n",
       "                                          categories primaryCategories  \\\n",
       "0  Computers,Electronics Features,Tablets,Electro...       Electronics   \n",
       "1  Computers,Electronics Features,Tablets,Electro...       Electronics   \n",
       "2  Computers,Electronics Features,Tablets,Electro...       Electronics   \n",
       "3  Computers,Electronics Features,Tablets,Electro...       Electronics   \n",
       "4  Computers,Electronics Features,Tablets,Electro...       Electronics   \n",
       "\n",
       "                                           imageURLs  \\\n",
       "0  https://pisces.bbystatic.com/image2/BestBuy_US...   \n",
       "1  https://pisces.bbystatic.com/image2/BestBuy_US...   \n",
       "2  https://pisces.bbystatic.com/image2/BestBuy_US...   \n",
       "3  https://pisces.bbystatic.com/image2/BestBuy_US...   \n",
       "4  https://pisces.bbystatic.com/image2/BestBuy_US...   \n",
       "\n",
       "                                                keys  ...  \\\n",
       "0  allnewkindleereaderblack6glarefreetouchscreend...  ...   \n",
       "1  allnewkindleereaderblack6glarefreetouchscreend...  ...   \n",
       "2  allnewkindleereaderblack6glarefreetouchscreend...  ...   \n",
       "3  allnewkindleereaderblack6glarefreetouchscreend...  ...   \n",
       "4  allnewkindleereaderblack6glarefreetouchscreend...  ...   \n",
       "\n",
       "                                    reviews.dateSeen reviews.doRecommend  \\\n",
       "0  2018-05-27T00:00:00Z,2017-09-18T00:00:00Z,2017...               False   \n",
       "1                               2018-05-27T00:00:00Z                True   \n",
       "2  2018-05-27T00:00:00Z,2017-07-07T00:00:00Z,2017...                True   \n",
       "3                               2018-10-09T00:00:00Z                True   \n",
       "4                               2017-10-10T00:00:00Z                True   \n",
       "\n",
       "    reviews.id reviews.numHelpful reviews.rating  \\\n",
       "0          NaN                  0              3   \n",
       "1          NaN                  0              5   \n",
       "2          NaN                  0              5   \n",
       "3  135864424.0                  4              4   \n",
       "4          NaN                  0              5   \n",
       "\n",
       "                                  reviews.sourceURLs  \\\n",
       "0  http://reviews.bestbuy.com/3545/5442403/review...   \n",
       "1  https://reviews.bestbuy.com/3545/5442403/revie...   \n",
       "2  https://reviews.bestbuy.com/3545/5442403/revie...   \n",
       "3  https://redsky.target.com/groot-domain-api/v1/...   \n",
       "4  http://reviews.bestbuy.com/3545/5442403/review...   \n",
       "\n",
       "                                        reviews.text  \\\n",
       "0  I thought it would be as big as small paper bu...   \n",
       "1  Solid entry level Kindle. Great for kids. Gift...   \n",
       "2  Love my kindle, makes reading at night so easy...   \n",
       "3  This is a nice bare-bones reading device. Easy...   \n",
       "4  The sales people are really nice and knowledge...   \n",
       "\n",
       "                              reviews.title  reviews.username  \\\n",
       "0                                 Too small            llyyue   \n",
       "1  Solid entry-level Kindle. Great for kids       Johnnyblack   \n",
       "2                    feels like a real book           Sean242   \n",
       "3    Easy to use, bare-bones reading device           Nibbler   \n",
       "4                             Great product           richard   \n",
       "\n",
       "                                          sourceURLs  \n",
       "0  https://www.newegg.com/Product/Product.aspx%25...  \n",
       "1  https://www.newegg.com/Product/Product.aspx%25...  \n",
       "2  https://www.newegg.com/Product/Product.aspx%25...  \n",
       "3  https://www.newegg.com/Product/Product.aspx%25...  \n",
       "4  https://www.newegg.com/Product/Product.aspx%25...  \n",
       "\n",
       "[5 rows x 24 columns]"
      ]
     },
     "execution_count": 32,
     "metadata": {},
     "output_type": "execute_result"
    }
   ],
   "source": [
    "reviews_test_df.head()"
   ]
  },
  {
   "cell_type": "code",
   "execution_count": 39,
   "metadata": {},
   "outputs": [],
   "source": [
    "sample_test_document = reviews_test_df['reviews.text'].iloc[50]"
   ]
  },
  {
   "cell_type": "code",
   "execution_count": 40,
   "metadata": {},
   "outputs": [
    {
     "name": "stdout",
     "output_type": "stream",
     "text": [
      "Sample Test Document:\n",
      " I use it in my office as a personal assistant. Not just for the home\n"
     ]
    }
   ],
   "source": [
    "print(\"Sample Test Document:\\n\", sample_test_document)"
   ]
  },
  {
   "cell_type": "code",
   "execution_count": 41,
   "metadata": {},
   "outputs": [
    {
     "name": "stdout",
     "output_type": "stream",
     "text": [
      "Score: 0.8283374309539795\t Topic: 0.059*\"alexa\" + 0.039*\"music\" + 0.026*\"home\" + 0.019*\"play\" + 0.019*\"devic\"\n",
      "Score: 0.028660831972956657\t Topic: 0.040*\"sound\" + 0.032*\"time\" + 0.030*\"watch\" + 0.029*\"video\" + 0.025*\"qualiti\"\n",
      "Score: 0.02861718088388443\t Topic: 0.047*\"screen\" + 0.033*\"devic\" + 0.018*\"better\" + 0.017*\"app\" + 0.017*\"play\"\n",
      "Score: 0.02861364558339119\t Topic: 0.049*\"year\" + 0.024*\"charg\" + 0.021*\"need\" + 0.020*\"ipad\" + 0.018*\"game\"\n",
      "Score: 0.028600841760635376\t Topic: 0.073*\"kid\" + 0.055*\"price\" + 0.022*\"game\" + 0.021*\"control\" + 0.020*\"awesom\"\n",
      "Score: 0.0285891592502594\t Topic: 0.048*\"book\" + 0.029*\"best\" + 0.028*\"recommend\" + 0.022*\"reader\" + 0.017*\"light\"\n",
      "Score: 0.028580958023667336\t Topic: 0.063*\"perfect\" + 0.029*\"item\" + 0.027*\"size\" + 0.024*\"gift\" + 0.021*\"recommend\"\n"
     ]
    }
   ],
   "source": [
    "# Data preprocessing step for the unseen document\n",
    "bow_vector = dictionary.doc2bow(preprocess(sample_test_document))\n",
    "\n",
    "for index, score in sorted(lda_model[bow_vector], key=lambda tup: -1*tup[1]):\n",
    "    print(\"Score: {}\\t Topic: {}\".format(score, lda_model.print_topic(index, 5)))"
   ]
  },
  {
   "cell_type": "code",
   "execution_count": null,
   "metadata": {},
   "outputs": [],
   "source": []
  }
 ],
 "metadata": {
  "kernelspec": {
   "display_name": "Python 3",
   "language": "python",
   "name": "python3"
  },
  "language_info": {
   "codemirror_mode": {
    "name": "ipython",
    "version": 3
   },
   "file_extension": ".py",
   "mimetype": "text/x-python",
   "name": "python",
   "nbconvert_exporter": "python",
   "pygments_lexer": "ipython3",
   "version": "3.6.4"
  }
 },
 "nbformat": 4,
 "nbformat_minor": 2
}
